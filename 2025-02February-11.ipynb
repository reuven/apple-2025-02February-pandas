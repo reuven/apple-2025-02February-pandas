{
 "cells": [
  {
   "cell_type": "markdown",
   "id": "3cd2404a-8593-4c2a-b4a5-4a18d07ca502",
   "metadata": {},
   "source": [
    "# Agenda\n",
    "\n",
    "1. NumPy\n",
    "2. Pandas series\n",
    "3. Data frames\n",
    "4. Indexes, sorting, grouping\n",
    "5. Dates + times\n",
    "6. Optimization of time + memory + speed"
   ]
  },
  {
   "cell_type": "code",
   "execution_count": 1,
   "id": "d1185c7b-239d-49a4-9419-d7d2fa13ef53",
   "metadata": {},
   "outputs": [],
   "source": [
    "x = 5\n",
    "\n"
   ]
  },
  {
   "cell_type": "code",
   "execution_count": 2,
   "id": "b97ac0cb-35a9-4c24-85e2-6474ca636882",
   "metadata": {},
   "outputs": [
    {
     "data": {
      "text/plain": [
       "int"
      ]
     },
     "execution_count": 2,
     "metadata": {},
     "output_type": "execute_result"
    }
   ],
   "source": [
    "type(x)"
   ]
  },
  {
   "cell_type": "code",
   "execution_count": 3,
   "id": "652f0991-5e30-4401-894f-bd18dff0e499",
   "metadata": {},
   "outputs": [
    {
     "data": {
      "text/plain": [
       "str"
      ]
     },
     "execution_count": 3,
     "metadata": {},
     "output_type": "execute_result"
    }
   ],
   "source": [
    "x = 'abcd'\n",
    "type(x)"
   ]
  },
  {
   "cell_type": "code",
   "execution_count": 4,
   "id": "98c00ac5-c739-4b93-a822-3f15a013bcea",
   "metadata": {},
   "outputs": [
    {
     "data": {
      "text/plain": [
       "28"
      ]
     },
     "execution_count": 4,
     "metadata": {},
     "output_type": "execute_result"
    }
   ],
   "source": [
    "x = 0\n",
    "\n",
    "import sys\n",
    "sys.getsizeof(x)"
   ]
  },
  {
   "cell_type": "code",
   "execution_count": 5,
   "id": "5092e664-b8e9-4408-8042-1136f8d8a1c5",
   "metadata": {},
   "outputs": [],
   "source": [
    "x = 100000"
   ]
  },
  {
   "cell_type": "code",
   "execution_count": 6,
   "id": "15bb3a86-e13c-4f70-ad91-02dfad528b0d",
   "metadata": {},
   "outputs": [
    {
     "data": {
      "text/plain": [
       "28"
      ]
     },
     "execution_count": 6,
     "metadata": {},
     "output_type": "execute_result"
    }
   ],
   "source": [
    "sys.getsizeof(x)"
   ]
  },
  {
   "cell_type": "code",
   "execution_count": 7,
   "id": "128902be-ca64-4e46-8eb3-9b993480d2d9",
   "metadata": {},
   "outputs": [],
   "source": [
    "x = x ** 1000"
   ]
  },
  {
   "cell_type": "code",
   "execution_count": 8,
   "id": "977349b4-6173-4eae-9d40-2bbc4964acf7",
   "metadata": {},
   "outputs": [
    {
     "data": {
      "text/plain": [
       "2240"
      ]
     },
     "execution_count": 8,
     "metadata": {},
     "output_type": "execute_result"
    }
   ],
   "source": [
    "sys.getsizeof(x)"
   ]
  },
  {
   "cell_type": "markdown",
   "id": "13a7a2d3-5aac-4838-be2d-57a0d248a0a0",
   "metadata": {},
   "source": [
    "# NumPy \n",
    "\n",
    "C data with a Python API"
   ]
  },
  {
   "cell_type": "code",
   "execution_count": 9,
   "id": "a2b2abac-0810-4a02-a6ad-29d7f006be2a",
   "metadata": {},
   "outputs": [],
   "source": [
    "import numpy as np"
   ]
  },
  {
   "cell_type": "code",
   "execution_count": 10,
   "id": "606e434a-d074-45d7-85ff-ddecd00bff5d",
   "metadata": {},
   "outputs": [
    {
     "data": {
      "text/plain": [
       "numpy.ndarray"
      ]
     },
     "execution_count": 10,
     "metadata": {},
     "output_type": "execute_result"
    }
   ],
   "source": [
    "# NumPy nd-array \n",
    "\n",
    "np.ndarray"
   ]
  },
  {
   "cell_type": "code",
   "execution_count": 11,
   "id": "28dc9a39-3b21-4379-a0e4-8277babea2b6",
   "metadata": {},
   "outputs": [
    {
     "data": {
      "text/plain": [
       "array([10, 20, 30, 40, 50, 60])"
      ]
     },
     "execution_count": 11,
     "metadata": {},
     "output_type": "execute_result"
    }
   ],
   "source": [
    "# create a NumPy array\n",
    "a = np.array([10,20, 30, 40, 50, 60])\n",
    "a"
   ]
  },
  {
   "cell_type": "code",
   "execution_count": 12,
   "id": "82965424-609a-4f4a-92b4-fe24cc0144fb",
   "metadata": {},
   "outputs": [
    {
     "data": {
      "text/plain": [
       "numpy.ndarray"
      ]
     },
     "execution_count": 12,
     "metadata": {},
     "output_type": "execute_result"
    }
   ],
   "source": [
    "type(a)"
   ]
  },
  {
   "cell_type": "code",
   "execution_count": 13,
   "id": "b3c91bc4-9464-40ba-b8b4-9d58c1cd4205",
   "metadata": {},
   "outputs": [
    {
     "data": {
      "text/plain": [
       "np.int64(10)"
      ]
     },
     "execution_count": 13,
     "metadata": {},
     "output_type": "execute_result"
    }
   ],
   "source": [
    "# standard Python operations\n",
    "\n",
    "a[0]"
   ]
  },
  {
   "cell_type": "code",
   "execution_count": 14,
   "id": "adc8ccbc-bc85-4230-9388-88e794fd791a",
   "metadata": {},
   "outputs": [
    {
     "data": {
      "text/plain": [
       "array([20, 30, 40])"
      ]
     },
     "execution_count": 14,
     "metadata": {},
     "output_type": "execute_result"
    }
   ],
   "source": [
    "a[1:4]"
   ]
  },
  {
   "cell_type": "code",
   "execution_count": 15,
   "id": "934dbe1a-c0b2-4fa6-99d6-66565e21f710",
   "metadata": {},
   "outputs": [
    {
     "data": {
      "text/plain": [
       "np.int64(20)"
      ]
     },
     "execution_count": 15,
     "metadata": {},
     "output_type": "execute_result"
    }
   ],
   "source": [
    "a[1:4][0]"
   ]
  },
  {
   "cell_type": "code",
   "execution_count": 16,
   "id": "467da076-a1b8-4e20-a2a6-7620becac311",
   "metadata": {},
   "outputs": [
    {
     "data": {
      "text/plain": [
       "'2.2.2'"
      ]
     },
     "execution_count": 16,
     "metadata": {},
     "output_type": "execute_result"
    }
   ],
   "source": [
    "np.__version__"
   ]
  },
  {
   "cell_type": "code",
   "execution_count": 17,
   "id": "1209af72-29db-473c-b097-15defaae4180",
   "metadata": {},
   "outputs": [
    {
     "data": {
      "text/plain": [
       "np.int64(10)"
      ]
     },
     "execution_count": 17,
     "metadata": {},
     "output_type": "execute_result"
    }
   ],
   "source": [
    "a[0]"
   ]
  },
  {
   "cell_type": "code",
   "execution_count": 18,
   "id": "45fe3fe8-5f88-4ab5-9840-b7cd1fe925b9",
   "metadata": {},
   "outputs": [
    {
     "data": {
      "text/plain": [
       "np.int64(210)"
      ]
     },
     "execution_count": 18,
     "metadata": {},
     "output_type": "execute_result"
    }
   ],
   "source": [
    "a.sum()"
   ]
  },
  {
   "cell_type": "code",
   "execution_count": 19,
   "id": "17f0d71f-30f4-402c-b1f2-57c16bf1ddd7",
   "metadata": {},
   "outputs": [
    {
     "data": {
      "text/plain": [
       "np.float64(35.0)"
      ]
     },
     "execution_count": 19,
     "metadata": {},
     "output_type": "execute_result"
    }
   ],
   "source": [
    "a.mean()"
   ]
  },
  {
   "cell_type": "code",
   "execution_count": 20,
   "id": "f253cd1f-8c7e-479e-9e63-d4aa0c81416a",
   "metadata": {},
   "outputs": [
    {
     "data": {
      "text/plain": [
       "np.float64(17.07825127659933)"
      ]
     },
     "execution_count": 20,
     "metadata": {},
     "output_type": "execute_result"
    }
   ],
   "source": [
    "a.std()"
   ]
  },
  {
   "cell_type": "code",
   "execution_count": 21,
   "id": "ceca3a9e-9842-4c43-ba67-dda07f798d49",
   "metadata": {},
   "outputs": [
    {
     "data": {
      "text/plain": [
       "np.int64(10)"
      ]
     },
     "execution_count": 21,
     "metadata": {},
     "output_type": "execute_result"
    }
   ],
   "source": [
    "a.min()"
   ]
  },
  {
   "cell_type": "code",
   "execution_count": 22,
   "id": "386b7edf-505b-4562-88fc-13fe765dfd7a",
   "metadata": {},
   "outputs": [
    {
     "data": {
      "text/plain": [
       "np.int64(60)"
      ]
     },
     "execution_count": 22,
     "metadata": {},
     "output_type": "execute_result"
    }
   ],
   "source": [
    "a.max()"
   ]
  },
  {
   "cell_type": "code",
   "execution_count": null,
   "id": "0cea863c-03bd-4ace-81d6-84f9a2beded5",
   "metadata": {},
   "outputs": [],
   "source": [
    "mylist1 = [10, 20, 30]\n",
    "mylist2 = []"
   ]
  }
 ],
 "metadata": {
  "kernelspec": {
   "display_name": "Python 3 (ipykernel)",
   "language": "python",
   "name": "python3"
  },
  "language_info": {
   "codemirror_mode": {
    "name": "ipython",
    "version": 3
   },
   "file_extension": ".py",
   "mimetype": "text/x-python",
   "name": "python",
   "nbconvert_exporter": "python",
   "pygments_lexer": "ipython3",
   "version": "3.13.1"
  },
  "widgets": {
   "application/vnd.jupyter.widget-state+json": {
    "state": {},
    "version_major": 2,
    "version_minor": 0
   }
  }
 },
 "nbformat": 4,
 "nbformat_minor": 5
}
