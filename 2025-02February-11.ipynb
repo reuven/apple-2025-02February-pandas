{
 "cells": [
  {
   "cell_type": "markdown",
   "id": "3cd2404a-8593-4c2a-b4a5-4a18d07ca502",
   "metadata": {},
   "source": [
    "# Agenda\n",
    "\n",
    "1. NumPy\n",
    "2. Pandas series\n",
    "3. Data frames\n",
    "4. Indexes, sorting, grouping\n",
    "5. Dates + times\n",
    "6. Optimization of time + memory + speed"
   ]
  },
  {
   "cell_type": "code",
   "execution_count": 1,
   "id": "d1185c7b-239d-49a4-9419-d7d2fa13ef53",
   "metadata": {},
   "outputs": [],
   "source": [
    "x = 5\n",
    "\n"
   ]
  },
  {
   "cell_type": "code",
   "execution_count": 2,
   "id": "b97ac0cb-35a9-4c24-85e2-6474ca636882",
   "metadata": {},
   "outputs": [
    {
     "data": {
      "text/plain": [
       "int"
      ]
     },
     "execution_count": 2,
     "metadata": {},
     "output_type": "execute_result"
    }
   ],
   "source": [
    "type(x)"
   ]
  },
  {
   "cell_type": "code",
   "execution_count": 3,
   "id": "652f0991-5e30-4401-894f-bd18dff0e499",
   "metadata": {},
   "outputs": [
    {
     "data": {
      "text/plain": [
       "str"
      ]
     },
     "execution_count": 3,
     "metadata": {},
     "output_type": "execute_result"
    }
   ],
   "source": [
    "x = 'abcd'\n",
    "type(x)"
   ]
  },
  {
   "cell_type": "code",
   "execution_count": 4,
   "id": "98c00ac5-c739-4b93-a822-3f15a013bcea",
   "metadata": {},
   "outputs": [
    {
     "data": {
      "text/plain": [
       "28"
      ]
     },
     "execution_count": 4,
     "metadata": {},
     "output_type": "execute_result"
    }
   ],
   "source": [
    "x = 0\n",
    "\n",
    "import sys\n",
    "sys.getsizeof(x)"
   ]
  },
  {
   "cell_type": "code",
   "execution_count": 5,
   "id": "5092e664-b8e9-4408-8042-1136f8d8a1c5",
   "metadata": {},
   "outputs": [],
   "source": [
    "x = 100000"
   ]
  },
  {
   "cell_type": "code",
   "execution_count": 6,
   "id": "15bb3a86-e13c-4f70-ad91-02dfad528b0d",
   "metadata": {},
   "outputs": [
    {
     "data": {
      "text/plain": [
       "28"
      ]
     },
     "execution_count": 6,
     "metadata": {},
     "output_type": "execute_result"
    }
   ],
   "source": [
    "sys.getsizeof(x)"
   ]
  },
  {
   "cell_type": "code",
   "execution_count": 7,
   "id": "128902be-ca64-4e46-8eb3-9b993480d2d9",
   "metadata": {},
   "outputs": [],
   "source": [
    "x = x ** 1000"
   ]
  },
  {
   "cell_type": "code",
   "execution_count": 8,
   "id": "977349b4-6173-4eae-9d40-2bbc4964acf7",
   "metadata": {},
   "outputs": [
    {
     "data": {
      "text/plain": [
       "2240"
      ]
     },
     "execution_count": 8,
     "metadata": {},
     "output_type": "execute_result"
    }
   ],
   "source": [
    "sys.getsizeof(x)"
   ]
  },
  {
   "cell_type": "markdown",
   "id": "13a7a2d3-5aac-4838-be2d-57a0d248a0a0",
   "metadata": {},
   "source": [
    "# NumPy \n",
    "\n",
    "C data with a Python API"
   ]
  },
  {
   "cell_type": "code",
   "execution_count": 9,
   "id": "a2b2abac-0810-4a02-a6ad-29d7f006be2a",
   "metadata": {},
   "outputs": [],
   "source": [
    "import numpy as np"
   ]
  },
  {
   "cell_type": "code",
   "execution_count": 10,
   "id": "606e434a-d074-45d7-85ff-ddecd00bff5d",
   "metadata": {},
   "outputs": [
    {
     "data": {
      "text/plain": [
       "numpy.ndarray"
      ]
     },
     "execution_count": 10,
     "metadata": {},
     "output_type": "execute_result"
    }
   ],
   "source": [
    "# NumPy nd-array \n",
    "\n",
    "np.ndarray"
   ]
  },
  {
   "cell_type": "code",
   "execution_count": 11,
   "id": "28dc9a39-3b21-4379-a0e4-8277babea2b6",
   "metadata": {},
   "outputs": [
    {
     "data": {
      "text/plain": [
       "array([10, 20, 30, 40, 50, 60])"
      ]
     },
     "execution_count": 11,
     "metadata": {},
     "output_type": "execute_result"
    }
   ],
   "source": [
    "# create a NumPy array\n",
    "a = np.array([10,20, 30, 40, 50, 60])\n",
    "a"
   ]
  },
  {
   "cell_type": "code",
   "execution_count": 12,
   "id": "82965424-609a-4f4a-92b4-fe24cc0144fb",
   "metadata": {},
   "outputs": [
    {
     "data": {
      "text/plain": [
       "numpy.ndarray"
      ]
     },
     "execution_count": 12,
     "metadata": {},
     "output_type": "execute_result"
    }
   ],
   "source": [
    "type(a)"
   ]
  },
  {
   "cell_type": "code",
   "execution_count": 13,
   "id": "b3c91bc4-9464-40ba-b8b4-9d58c1cd4205",
   "metadata": {},
   "outputs": [
    {
     "data": {
      "text/plain": [
       "np.int64(10)"
      ]
     },
     "execution_count": 13,
     "metadata": {},
     "output_type": "execute_result"
    }
   ],
   "source": [
    "# standard Python operations\n",
    "\n",
    "a[0]"
   ]
  },
  {
   "cell_type": "code",
   "execution_count": 14,
   "id": "adc8ccbc-bc85-4230-9388-88e794fd791a",
   "metadata": {},
   "outputs": [
    {
     "data": {
      "text/plain": [
       "array([20, 30, 40])"
      ]
     },
     "execution_count": 14,
     "metadata": {},
     "output_type": "execute_result"
    }
   ],
   "source": [
    "a[1:4]"
   ]
  },
  {
   "cell_type": "code",
   "execution_count": 15,
   "id": "934dbe1a-c0b2-4fa6-99d6-66565e21f710",
   "metadata": {},
   "outputs": [
    {
     "data": {
      "text/plain": [
       "np.int64(20)"
      ]
     },
     "execution_count": 15,
     "metadata": {},
     "output_type": "execute_result"
    }
   ],
   "source": [
    "a[1:4][0]"
   ]
  },
  {
   "cell_type": "code",
   "execution_count": 16,
   "id": "467da076-a1b8-4e20-a2a6-7620becac311",
   "metadata": {},
   "outputs": [
    {
     "data": {
      "text/plain": [
       "'2.2.2'"
      ]
     },
     "execution_count": 16,
     "metadata": {},
     "output_type": "execute_result"
    }
   ],
   "source": [
    "np.__version__"
   ]
  },
  {
   "cell_type": "code",
   "execution_count": 17,
   "id": "1209af72-29db-473c-b097-15defaae4180",
   "metadata": {},
   "outputs": [
    {
     "data": {
      "text/plain": [
       "np.int64(10)"
      ]
     },
     "execution_count": 17,
     "metadata": {},
     "output_type": "execute_result"
    }
   ],
   "source": [
    "a[0]"
   ]
  },
  {
   "cell_type": "code",
   "execution_count": 18,
   "id": "45fe3fe8-5f88-4ab5-9840-b7cd1fe925b9",
   "metadata": {},
   "outputs": [
    {
     "data": {
      "text/plain": [
       "np.int64(210)"
      ]
     },
     "execution_count": 18,
     "metadata": {},
     "output_type": "execute_result"
    }
   ],
   "source": [
    "a.sum()"
   ]
  },
  {
   "cell_type": "code",
   "execution_count": 19,
   "id": "17f0d71f-30f4-402c-b1f2-57c16bf1ddd7",
   "metadata": {},
   "outputs": [
    {
     "data": {
      "text/plain": [
       "np.float64(35.0)"
      ]
     },
     "execution_count": 19,
     "metadata": {},
     "output_type": "execute_result"
    }
   ],
   "source": [
    "a.mean()"
   ]
  },
  {
   "cell_type": "code",
   "execution_count": 20,
   "id": "f253cd1f-8c7e-479e-9e63-d4aa0c81416a",
   "metadata": {},
   "outputs": [
    {
     "data": {
      "text/plain": [
       "np.float64(17.07825127659933)"
      ]
     },
     "execution_count": 20,
     "metadata": {},
     "output_type": "execute_result"
    }
   ],
   "source": [
    "a.std()"
   ]
  },
  {
   "cell_type": "code",
   "execution_count": 21,
   "id": "ceca3a9e-9842-4c43-ba67-dda07f798d49",
   "metadata": {},
   "outputs": [
    {
     "data": {
      "text/plain": [
       "np.int64(10)"
      ]
     },
     "execution_count": 21,
     "metadata": {},
     "output_type": "execute_result"
    }
   ],
   "source": [
    "a.min()"
   ]
  },
  {
   "cell_type": "code",
   "execution_count": 22,
   "id": "386b7edf-505b-4562-88fc-13fe765dfd7a",
   "metadata": {},
   "outputs": [
    {
     "data": {
      "text/plain": [
       "np.int64(60)"
      ]
     },
     "execution_count": 22,
     "metadata": {},
     "output_type": "execute_result"
    }
   ],
   "source": [
    "a.max()"
   ]
  },
  {
   "cell_type": "code",
   "execution_count": 23,
   "id": "0cea863c-03bd-4ace-81d6-84f9a2beded5",
   "metadata": {},
   "outputs": [
    {
     "data": {
      "text/plain": [
       "[10, 20, 30, 40, 50, 60]"
      ]
     },
     "execution_count": 23,
     "metadata": {},
     "output_type": "execute_result"
    }
   ],
   "source": [
    "mylist1 = [10, 20, 30]\n",
    "mylist2 = [40, 50, 60]\n",
    "\n",
    "mylist1 + mylist2"
   ]
  },
  {
   "cell_type": "code",
   "execution_count": 24,
   "id": "4a840ac0-a4a1-4895-93d6-1698e1672447",
   "metadata": {},
   "outputs": [
    {
     "data": {
      "text/plain": [
       "array([10, 20, 30, 40, 50, 60])"
      ]
     },
     "execution_count": 24,
     "metadata": {},
     "output_type": "execute_result"
    }
   ],
   "source": [
    "a"
   ]
  },
  {
   "cell_type": "code",
   "execution_count": 25,
   "id": "2151ec31-335a-4331-b9e1-6df8ecc05de1",
   "metadata": {},
   "outputs": [
    {
     "data": {
      "text/plain": [
       "array([ 20,  40,  60,  80, 100, 120])"
      ]
     },
     "execution_count": 25,
     "metadata": {},
     "output_type": "execute_result"
    }
   ],
   "source": [
    "a + a"
   ]
  },
  {
   "cell_type": "code",
   "execution_count": 26,
   "id": "3b3f46c0-51b6-4317-8f7a-42d6c34e11fb",
   "metadata": {},
   "outputs": [
    {
     "data": {
      "text/plain": [
       "array([1., 1., 1., 1., 1., 1.])"
      ]
     },
     "execution_count": 26,
     "metadata": {},
     "output_type": "execute_result"
    }
   ],
   "source": [
    "a / a"
   ]
  },
  {
   "cell_type": "code",
   "execution_count": 27,
   "id": "3ea66975-7096-4b1e-9c40-69f2db74f1ec",
   "metadata": {},
   "outputs": [
    {
     "data": {
      "text/plain": [
       "array([ 100,  400,  900, 1600, 2500, 3600])"
      ]
     },
     "execution_count": 27,
     "metadata": {},
     "output_type": "execute_result"
    }
   ],
   "source": [
    "a * a"
   ]
  },
  {
   "cell_type": "code",
   "execution_count": 28,
   "id": "2c4d2094-40fd-413a-a0c8-02472fabefdb",
   "metadata": {},
   "outputs": [
    {
     "ename": "TypeError",
     "evalue": "can only concatenate list (not \"int\") to list",
     "output_type": "error",
     "traceback": [
      "\u001b[0;31m---------------------------------------------------------------------------\u001b[0m",
      "\u001b[0;31mTypeError\u001b[0m                                 Traceback (most recent call last)",
      "Cell \u001b[0;32mIn[28], line 1\u001b[0m\n\u001b[0;32m----> 1\u001b[0m \u001b[43mmylist1\u001b[49m\u001b[43m \u001b[49m\u001b[38;5;241;43m+\u001b[39;49m\u001b[43m \u001b[49m\u001b[38;5;241;43m5\u001b[39;49m\n",
      "\u001b[0;31mTypeError\u001b[0m: can only concatenate list (not \"int\") to list"
     ]
    }
   ],
   "source": [
    "mylist1 + 5"
   ]
  },
  {
   "cell_type": "code",
   "execution_count": 29,
   "id": "c92bfeff-765b-474f-a72f-811d0b8b3160",
   "metadata": {},
   "outputs": [
    {
     "data": {
      "text/plain": [
       "array([15, 25, 35, 45, 55, 65])"
      ]
     },
     "execution_count": 29,
     "metadata": {},
     "output_type": "execute_result"
    }
   ],
   "source": [
    "# broadcast\n",
    "a + 5"
   ]
  },
  {
   "cell_type": "markdown",
   "id": "f20ee578-14b5-4155-9ebf-77138cefdf49",
   "metadata": {},
   "source": [
    "# Operations on NumPy arrays\n",
    "\n",
    "- If we run an operator on two arrays, we get a new array back with the operation applied to each index\n",
    "- If we run an operation on an array and a scalar value, we get a new array back -- the operation broadcast to each index"
   ]
  },
  {
   "cell_type": "code",
   "execution_count": 30,
   "id": "f948ab30-1aa0-46b2-962b-98ff5d5ab5bb",
   "metadata": {},
   "outputs": [
    {
     "data": {
      "text/plain": [
       "array([10, 20, 30, 40, 50, 60])"
      ]
     },
     "execution_count": 30,
     "metadata": {},
     "output_type": "execute_result"
    }
   ],
   "source": [
    "a"
   ]
  },
  {
   "cell_type": "code",
   "execution_count": 31,
   "id": "4e91728f-5b1d-481f-bf8f-687b725278b1",
   "metadata": {},
   "outputs": [
    {
     "data": {
      "text/plain": [
       "array([ 10,  20, 999,  40,  50,  60])"
      ]
     },
     "execution_count": 31,
     "metadata": {},
     "output_type": "execute_result"
    }
   ],
   "source": [
    "a[2] = 999\n",
    "a"
   ]
  },
  {
   "cell_type": "markdown",
   "id": "6b442d0c-5802-480e-8a4b-cb267fba71f2",
   "metadata": {},
   "source": [
    "# Other ways to create a NumPy array\n",
    "\n",
    "1. `np.arange`\n",
    "2. `np.random.randint`\n",
    "3. `np.random.rand`\n",
    "4. `np.ones`\n",
    "5. `np.zeros`"
   ]
  },
  {
   "cell_type": "code",
   "execution_count": 32,
   "id": "eecf0c83-e810-49d1-ae6b-34638bfcc1e0",
   "metadata": {},
   "outputs": [
    {
     "data": {
      "text/plain": [
       "array([0, 1, 2, 3, 4, 5, 6, 7, 8, 9])"
      ]
     },
     "execution_count": 32,
     "metadata": {},
     "output_type": "execute_result"
    }
   ],
   "source": [
    "np.arange(10)"
   ]
  },
  {
   "cell_type": "code",
   "execution_count": 33,
   "id": "c8e1991d-25fa-436f-b9e0-fe28dac11a1e",
   "metadata": {},
   "outputs": [
    {
     "data": {
      "text/plain": [
       "array([10, 11, 12, 13, 14, 15, 16, 17, 18, 19])"
      ]
     },
     "execution_count": 33,
     "metadata": {},
     "output_type": "execute_result"
    }
   ],
   "source": [
    "np.arange(10, 20)"
   ]
  },
  {
   "cell_type": "code",
   "execution_count": 34,
   "id": "0f11812c-826f-4032-9357-d74d95a64f45",
   "metadata": {},
   "outputs": [
    {
     "data": {
      "text/plain": [
       "array([10, 13, 16, 19])"
      ]
     },
     "execution_count": 34,
     "metadata": {},
     "output_type": "execute_result"
    }
   ],
   "source": [
    "np.arange(10, 20, 3)"
   ]
  },
  {
   "cell_type": "code",
   "execution_count": 40,
   "id": "dd64456a-135c-4f2f-8de3-b53b7337c1e9",
   "metadata": {},
   "outputs": [
    {
     "data": {
      "text/plain": [
       "array([44, 47, 64, 67, 67])"
      ]
     },
     "execution_count": 40,
     "metadata": {},
     "output_type": "execute_result"
    }
   ],
   "source": [
    "np.random.seed(0)   # dictate the random number generator start\n",
    "np.random.randint(0, 100, 5)"
   ]
  },
  {
   "cell_type": "code",
   "execution_count": 41,
   "id": "3b3caa2c-9861-4230-a0de-4f1dc3f7487f",
   "metadata": {},
   "outputs": [
    {
     "data": {
      "text/plain": [
       "array([0.5488135 , 0.71518937, 0.60276338, 0.54488318, 0.4236548 ,\n",
       "       0.64589411, 0.43758721, 0.891773  , 0.96366276, 0.38344152])"
      ]
     },
     "execution_count": 41,
     "metadata": {},
     "output_type": "execute_result"
    }
   ],
   "source": [
    "np.random.seed(0)\n",
    "np.random.rand(10)   # 10 floats from 0 to 1\n"
   ]
  },
  {
   "cell_type": "code",
   "execution_count": 44,
   "id": "b37fe87e-f119-4ef0-b08a-74f4f8b083a9",
   "metadata": {},
   "outputs": [
    {
     "data": {
      "text/plain": [
       "array([54.88135039, 71.51893664, 60.27633761, 54.4883183 , 42.36547993,\n",
       "       64.58941131, 43.75872113, 89.17730008, 96.36627605, 38.34415188])"
      ]
     },
     "execution_count": 44,
     "metadata": {},
     "output_type": "execute_result"
    }
   ],
   "source": [
    "np.random.seed(0)\n",
    "np.random.rand(10)  * 100"
   ]
  },
  {
   "cell_type": "code",
   "execution_count": 45,
   "id": "6bb176ce-095d-475b-aaf5-520888573717",
   "metadata": {},
   "outputs": [
    {
     "data": {
      "text/plain": [
       "array([1., 1., 1., 1., 1.])"
      ]
     },
     "execution_count": 45,
     "metadata": {},
     "output_type": "execute_result"
    }
   ],
   "source": [
    "np.ones(5)"
   ]
  },
  {
   "cell_type": "code",
   "execution_count": 46,
   "id": "b74b4149-927a-478d-ae2d-c3c40d3b2e20",
   "metadata": {},
   "outputs": [
    {
     "data": {
      "text/plain": [
       "array([0., 0., 0., 0., 0., 0., 0.])"
      ]
     },
     "execution_count": 46,
     "metadata": {},
     "output_type": "execute_result"
    }
   ],
   "source": [
    "np.zeros(7)"
   ]
  },
  {
   "cell_type": "markdown",
   "id": "91b524ec-69d3-4358-ae6f-7a31495952fd",
   "metadata": {},
   "source": [
    "# Exercises: NumPy arrays\n",
    "\n",
    "- https://github.com/reuven   \n",
    "- repositories \n",
    "- apple-2025-02February-pandas\n",
    "- Jupyter notebook there\n",
    "\n",
    "1. Create a 3-element NumPy array with your birthday (year, month, day)\n",
    "2. Change the year to be this year.\n",
    "3. Create an array with 10 random ints from 0-100.\n",
    "4. Find the mean and std of these numbers.\n",
    "5. Create an array of 10 random floats from 0-1,000.\n",
    "6. Find the mean and std of these numbers."
   ]
  },
  {
   "cell_type": "code",
   "execution_count": 47,
   "id": "780761f3-35a4-4198-be77-2f61b53ef27e",
   "metadata": {},
   "outputs": [
    {
     "data": {
      "text/plain": [
       "array([1970,    7,   14])"
      ]
     },
     "execution_count": 47,
     "metadata": {},
     "output_type": "execute_result"
    }
   ],
   "source": [
    "a = np.array([1970, 7, 14])\n",
    "a"
   ]
  },
  {
   "cell_type": "code",
   "execution_count": 48,
   "id": "a4c4c76e-85cd-478d-808f-60c00d00330f",
   "metadata": {},
   "outputs": [],
   "source": [
    "a = np.array([123456789,1,2])"
   ]
  },
  {
   "cell_type": "code",
   "execution_count": 49,
   "id": "c329a297-3d09-474a-ac73-c70e04204e20",
   "metadata": {},
   "outputs": [
    {
     "data": {
      "text/plain": [
       "array([123456789,         1,         2])"
      ]
     },
     "execution_count": 49,
     "metadata": {},
     "output_type": "execute_result"
    }
   ],
   "source": [
    "a"
   ]
  },
  {
   "cell_type": "code",
   "execution_count": 50,
   "id": "e88ac521-6f12-463a-abfb-d22de71fbe63",
   "metadata": {},
   "outputs": [
    {
     "data": {
      "text/plain": [
       "array([1970,    7,   14])"
      ]
     },
     "execution_count": 50,
     "metadata": {},
     "output_type": "execute_result"
    }
   ],
   "source": [
    "a = np.array([1970, 7, 14])\n",
    "a"
   ]
  },
  {
   "cell_type": "code",
   "execution_count": 51,
   "id": "c4f1818b-4265-4544-8ab9-c96c1ad736ea",
   "metadata": {},
   "outputs": [
    {
     "data": {
      "text/plain": [
       "array([2025,    7,   14])"
      ]
     },
     "execution_count": 51,
     "metadata": {},
     "output_type": "execute_result"
    }
   ],
   "source": [
    "a[0] = 2025\n",
    "a"
   ]
  },
  {
   "cell_type": "code",
   "execution_count": 53,
   "id": "36efb614-c1fc-4d35-bff6-6abef86c261a",
   "metadata": {},
   "outputs": [
    {
     "data": {
      "text/plain": [
       "array([44, 47, 64, 67, 67,  9, 83, 21, 36, 87])"
      ]
     },
     "execution_count": 53,
     "metadata": {},
     "output_type": "execute_result"
    }
   ],
   "source": [
    "# 3. Create an array with 10 random ints from 0-100.\n",
    "\n",
    "np.random.seed(0)\n",
    "a = np.random.randint(0, 100, 10)\n",
    "a"
   ]
  },
  {
   "cell_type": "code",
   "execution_count": 54,
   "id": "4a2b65f2-204c-4a2e-ad35-77f8f67f629a",
   "metadata": {},
   "outputs": [
    {
     "data": {
      "text/plain": [
       "np.float64(52.5)"
      ]
     },
     "execution_count": 54,
     "metadata": {},
     "output_type": "execute_result"
    }
   ],
   "source": [
    "# 4. Find the mean and std of these numbers.\n",
    "a.mean()"
   ]
  },
  {
   "cell_type": "code",
   "execution_count": 55,
   "id": "8e7f73ad-2021-4839-b1ae-68ca2e21837a",
   "metadata": {},
   "outputs": [
    {
     "data": {
      "text/plain": [
       "np.float64(24.3567239176372)"
      ]
     },
     "execution_count": 55,
     "metadata": {},
     "output_type": "execute_result"
    }
   ],
   "source": [
    "a.std()"
   ]
  },
  {
   "cell_type": "code",
   "execution_count": 56,
   "id": "8854f34a-212e-4ef7-acc6-b8bb4a6ec758",
   "metadata": {},
   "outputs": [
    {
     "data": {
      "text/plain": [
       "array([548.81350393, 715.18936637, 602.76337607, 544.883183  ,\n",
       "       423.65479934, 645.89411307, 437.58721126, 891.77300078,\n",
       "       963.6627605 , 383.44151883])"
      ]
     },
     "execution_count": 56,
     "metadata": {},
     "output_type": "execute_result"
    }
   ],
   "source": [
    "# 5. Create an array of 10 random floats from 0-1,000.\n",
    "\n",
    "np.random.seed(0)\n",
    "a = np.random.rand(10) * 1000\n",
    "a"
   ]
  },
  {
   "cell_type": "code",
   "execution_count": 57,
   "id": "35fc0efa-3cad-44a0-96f9-5ba73398fb8f",
   "metadata": {},
   "outputs": [
    {
     "data": {
      "text/plain": [
       "np.float64(615.7662833145425)"
      ]
     },
     "execution_count": 57,
     "metadata": {},
     "output_type": "execute_result"
    }
   ],
   "source": [
    "# 6. Find the mean and std of these numbers.\n",
    "\n",
    "a.mean()"
   ]
  },
  {
   "cell_type": "code",
   "execution_count": 58,
   "id": "5c4aeb24-ef8c-43c7-9b09-0ecb1131aeee",
   "metadata": {},
   "outputs": [
    {
     "data": {
      "text/plain": [
       "np.float64(184.47489445957166)"
      ]
     },
     "execution_count": 58,
     "metadata": {},
     "output_type": "execute_result"
    }
   ],
   "source": [
    "a.std()"
   ]
  },
  {
   "cell_type": "code",
   "execution_count": 59,
   "id": "89c5967d-c66e-44b5-8ccf-8c8a6404c71b",
   "metadata": {},
   "outputs": [
    {
     "data": {
      "text/plain": [
       "array([44, 47, 64, 67, 67,  9, 83, 21, 36, 87])"
      ]
     },
     "execution_count": 59,
     "metadata": {},
     "output_type": "execute_result"
    }
   ],
   "source": [
    "np.random.seed(0)\n",
    "a = np.random.randint(0, 100, 10)\n",
    "a"
   ]
  },
  {
   "cell_type": "code",
   "execution_count": 60,
   "id": "ee7ff17d-424c-4fec-ae98-581651b66d14",
   "metadata": {},
   "outputs": [
    {
     "data": {
      "text/plain": [
       "np.int64(67)"
      ]
     },
     "execution_count": 60,
     "metadata": {},
     "output_type": "execute_result"
    }
   ],
   "source": [
    "# get from index 3\n",
    "a[3]"
   ]
  },
  {
   "cell_type": "code",
   "execution_count": 61,
   "id": "88a72aca-d463-4c36-93dd-6460297c666e",
   "metadata": {},
   "outputs": [
    {
     "data": {
      "text/plain": [
       "np.int64(9)"
      ]
     },
     "execution_count": 61,
     "metadata": {},
     "output_type": "execute_result"
    }
   ],
   "source": [
    "# get from index 5\n",
    "a[5]"
   ]
  },
  {
   "cell_type": "code",
   "execution_count": 65,
   "id": "b8e2e0a2-5cfd-4c9e-a803-2fc266240e34",
   "metadata": {},
   "outputs": [
    {
     "data": {
      "text/plain": [
       "array([67,  9])"
      ]
     },
     "execution_count": 65,
     "metadata": {},
     "output_type": "execute_result"
    }
   ],
   "source": [
    "# what if I want from both 3 and 5?\n",
    "# fancy indexing!\n",
    "\n",
    "a[ [3, 5] ]"
   ]
  },
  {
   "cell_type": "code",
   "execution_count": 63,
   "id": "f368e047-0d0a-4fb4-aa56-2e12e478ad5f",
   "metadata": {},
   "outputs": [
    {
     "data": {
      "text/plain": [
       "array([ 9, 67])"
      ]
     },
     "execution_count": 63,
     "metadata": {},
     "output_type": "execute_result"
    }
   ],
   "source": [
    "a[ [5, 3]]"
   ]
  },
  {
   "cell_type": "code",
   "execution_count": 64,
   "id": "44eb9cd5-7231-40ed-9a3f-91c6dbb217a3",
   "metadata": {},
   "outputs": [
    {
     "data": {
      "text/plain": [
       "array([67,  9, 67,  9])"
      ]
     },
     "execution_count": 64,
     "metadata": {},
     "output_type": "execute_result"
    }
   ],
   "source": [
    "a[[3,5,3,5]]"
   ]
  },
  {
   "cell_type": "code",
   "execution_count": 66,
   "id": "cdb15d1b-90ee-46e4-b0de-2a0b689f57b8",
   "metadata": {},
   "outputs": [
    {
     "data": {
      "text/plain": [
       "array([44, 47, 64, 67, 67,  9, 83, 21, 36, 87])"
      ]
     },
     "execution_count": 66,
     "metadata": {},
     "output_type": "execute_result"
    }
   ],
   "source": [
    "a"
   ]
  },
  {
   "cell_type": "code",
   "execution_count": 67,
   "id": "0b0dd8c6-745e-421c-b115-a067dee35d55",
   "metadata": {},
   "outputs": [
    {
     "data": {
      "text/plain": [
       "array([176, 188, 256, 268, 268,  36, 332,  84, 144, 348])"
      ]
     },
     "execution_count": 67,
     "metadata": {},
     "output_type": "execute_result"
    }
   ],
   "source": [
    "# broadcast\n",
    "\n",
    "a * 4"
   ]
  },
  {
   "cell_type": "code",
   "execution_count": 68,
   "id": "070c47f2-a342-4d73-8b51-ae961ecbebb2",
   "metadata": {},
   "outputs": [
    {
     "data": {
      "text/plain": [
       "array([ True,  True, False, False, False,  True, False,  True,  True,\n",
       "       False])"
      ]
     },
     "execution_count": 68,
     "metadata": {},
     "output_type": "execute_result"
    }
   ],
   "source": [
    "a < 50"
   ]
  },
  {
   "cell_type": "code",
   "execution_count": 69,
   "id": "e9869f39-cd4d-455d-a2cf-9a02b5c17d46",
   "metadata": {},
   "outputs": [
    {
     "data": {
      "text/plain": [
       "array([ True,  True, False, False, False,  True, False,  True,  True,\n",
       "       False])"
      ]
     },
     "execution_count": 69,
     "metadata": {},
     "output_type": "execute_result"
    }
   ],
   "source": [
    "a < a.mean()"
   ]
  },
  {
   "cell_type": "code",
   "execution_count": 70,
   "id": "152cf467-1f5f-402d-8ea1-c7df5b40b441",
   "metadata": {},
   "outputs": [
    {
     "data": {
      "text/plain": [
       "array([44, 47, 64, 67, 36, 87])"
      ]
     },
     "execution_count": 70,
     "metadata": {},
     "output_type": "execute_result"
    }
   ],
   "source": [
    "# mask index\n",
    "\n",
    "# get back the values of a that correspond to True\n",
    "a[ [True, True, True, True, False, False, False, False, True, True]  ]"
   ]
  },
  {
   "cell_type": "code",
   "execution_count": 72,
   "id": "10aafb9f-f411-4c61-b140-ee2e27205b05",
   "metadata": {},
   "outputs": [
    {
     "data": {
      "text/plain": [
       "array([44, 47,  9, 21, 36])"
      ]
     },
     "execution_count": 72,
     "metadata": {},
     "output_type": "execute_result"
    }
   ],
   "source": [
    "# get the elements of a that are < 50\n",
    "a[ a < 50 ]"
   ]
  },
  {
   "cell_type": "code",
   "execution_count": 73,
   "id": "e531d455-e309-4799-a4bf-131cf03c73b3",
   "metadata": {},
   "outputs": [
    {
     "data": {
      "text/plain": [
       "array([44, 47,  9, 21, 36])"
      ]
     },
     "execution_count": 73,
     "metadata": {},
     "output_type": "execute_result"
    }
   ],
   "source": [
    "a[ a < a.mean() ]"
   ]
  },
  {
   "cell_type": "markdown",
   "id": "5ee7e202-8542-46c0-b231-0f75cc87d41f",
   "metadata": {},
   "source": [
    "# Exercise: Boolean indexes\n",
    "\n",
    "1. Create a NumPy array with 20 random ints from 0-100.\n",
    "2. Find the smallest number that is bigger than 50.\n",
    "3. Find the largest number that is less than the mean - 1 std.\n",
    "4. Find the mean of the numbers that are less than the mean."
   ]
  },
  {
   "cell_type": "code",
   "execution_count": 74,
   "id": "72e2d2d5-a20d-44e9-abcb-93680c71b34e",
   "metadata": {},
   "outputs": [
    {
     "data": {
      "text/plain": [
       "array([44, 47, 64, 67, 67,  9, 83, 21, 36, 87, 70, 88, 88, 12, 58, 65, 39,\n",
       "       87, 46, 88])"
      ]
     },
     "execution_count": 74,
     "metadata": {},
     "output_type": "execute_result"
    }
   ],
   "source": [
    "np.random.seed(0)\n",
    "a = np.random.randint(0, 100, 20)\n",
    "a"
   ]
  },
  {
   "cell_type": "code",
   "execution_count": 77,
   "id": "885dc59f-881c-439b-8b43-15266497f0dd",
   "metadata": {},
   "outputs": [
    {
     "data": {
      "text/plain": [
       "np.int64(58)"
      ]
     },
     "execution_count": 77,
     "metadata": {},
     "output_type": "execute_result"
    }
   ],
   "source": [
    "# 2. Find the smallest number that is bigger than 50.\n",
    "\n",
    "a[a > 50].min()"
   ]
  },
  {
   "cell_type": "code",
   "execution_count": 85,
   "id": "e6ff218a-2e18-4619-a6a5-4b0a3033d6c6",
   "metadata": {},
   "outputs": [
    {
     "data": {
      "text/plain": [
       "np.int64(21)"
      ]
     },
     "execution_count": 85,
     "metadata": {},
     "output_type": "execute_result"
    }
   ],
   "source": [
    "# 3. Find the largest number that is less than the mean - 1 std.\n",
    "\n",
    "a[a < (a.mean() - a.std())].max()"
   ]
  },
  {
   "cell_type": "code",
   "execution_count": 84,
   "id": "ee282787-af3c-4195-9692-dafc05c9d741",
   "metadata": {},
   "outputs": [
    {
     "data": {
      "text/plain": [
       "np.float64(34.666666666666664)"
      ]
     },
     "execution_count": 84,
     "metadata": {},
     "output_type": "execute_result"
    }
   ],
   "source": [
    "# 4. Find the mean of the numbers that are less than the mean.\n",
    "\n",
    "a[a < a.mean()].mean()"
   ]
  },
  {
   "cell_type": "code",
   "execution_count": 88,
   "id": "02d62cde-45cd-4354-992d-5b43ed19c064",
   "metadata": {},
   "outputs": [
    {
     "data": {
      "text/plain": [
       "array([44, 64, 36, 70, 88, 88, 12, 58, 46, 88])"
      ]
     },
     "execution_count": 88,
     "metadata": {},
     "output_type": "execute_result"
    }
   ],
   "source": [
    "# what if I want all of the even numbers?\n",
    "\n",
    "a[a % 2 == 0]"
   ]
  },
  {
   "cell_type": "code",
   "execution_count": 87,
   "id": "3c5cd6d2-7056-49b4-8efb-14a0a0f5d843",
   "metadata": {},
   "outputs": [
    {
     "data": {
      "text/plain": [
       "array([44, 47, 64, 67, 67,  9, 83, 21, 36, 87, 70, 88, 88, 12, 58, 65, 39,\n",
       "       87, 46, 88])"
      ]
     },
     "execution_count": 87,
     "metadata": {},
     "output_type": "execute_result"
    }
   ],
   "source": [
    "a"
   ]
  },
  {
   "cell_type": "code",
   "execution_count": 90,
   "id": "5300fdc1-8865-4899-b306-e5c98306e393",
   "metadata": {},
   "outputs": [
    {
     "data": {
      "text/plain": [
       "array([10, 30])"
      ]
     },
     "execution_count": 90,
     "metadata": {},
     "output_type": "execute_result"
    }
   ],
   "source": [
    "a = np.array([10, 25, 30])\n",
    "\n",
    "a[[True, False, True]]"
   ]
  },
  {
   "cell_type": "code",
   "execution_count": 91,
   "id": "bbe62f36-7e29-4625-b80b-20a728a71332",
   "metadata": {},
   "outputs": [
    {
     "data": {
      "text/plain": [
       "array([0, 1, 0])"
      ]
     },
     "execution_count": 91,
     "metadata": {},
     "output_type": "execute_result"
    }
   ],
   "source": [
    "a % 2"
   ]
  },
  {
   "cell_type": "code",
   "execution_count": 92,
   "id": "2543d583-fb49-4461-aa63-e22f643dbd55",
   "metadata": {},
   "outputs": [
    {
     "data": {
      "text/plain": [
       "array([10, 25, 10])"
      ]
     },
     "execution_count": 92,
     "metadata": {},
     "output_type": "execute_result"
    }
   ],
   "source": [
    "a[a%2]   # just like saying a[[0, 1, 0]]  -- not a[[False, True, False]]"
   ]
  },
  {
   "cell_type": "code",
   "execution_count": 93,
   "id": "9b8a70b1-1a16-4252-88fc-9b898c75e9d9",
   "metadata": {},
   "outputs": [
    {
     "data": {
      "text/plain": [
       "array([25])"
      ]
     },
     "execution_count": 93,
     "metadata": {},
     "output_type": "execute_result"
    }
   ],
   "source": [
    "a[a%2 ==1]"
   ]
  },
  {
   "cell_type": "code",
   "execution_count": 94,
   "id": "66dd690e-98aa-43cc-8dee-2cf2d294c84f",
   "metadata": {},
   "outputs": [
    {
     "data": {
      "text/plain": [
       "array([684, 559, 629, 192, 835, 763, 707, 359,   9, 723, 277, 754, 804,\n",
       "       599,  70, 472, 600, 396, 314, 705])"
      ]
     },
     "execution_count": 94,
     "metadata": {},
     "output_type": "execute_result"
    }
   ],
   "source": [
    "# find even numbers that are less than the mean\n",
    "\n",
    "np.random.seed(0)\n",
    "a = np.random.randint(0, 1000, 20)\n",
    "a"
   ]
  },
  {
   "cell_type": "code",
   "execution_count": 95,
   "id": "332128e5-5bf7-4286-ae73-44065c0ccd13",
   "metadata": {},
   "outputs": [
    {
     "ename": "ValueError",
     "evalue": "The truth value of an array with more than one element is ambiguous. Use a.any() or a.all()",
     "output_type": "error",
     "traceback": [
      "\u001b[0;31m---------------------------------------------------------------------------\u001b[0m",
      "\u001b[0;31mValueError\u001b[0m                                Traceback (most recent call last)",
      "Cell \u001b[0;32mIn[95], line 1\u001b[0m\n\u001b[0;32m----> 1\u001b[0m a[\u001b[43ma\u001b[49m\u001b[38;5;241;43m%\u001b[39;49m\u001b[38;5;241;43m2\u001b[39;49m\u001b[43m \u001b[49m\u001b[38;5;241;43m==\u001b[39;49m\u001b[43m \u001b[49m\u001b[38;5;241;43m0\u001b[39;49m\u001b[43m    \u001b[49m\u001b[38;5;129;43;01mand\u001b[39;49;00m\u001b[43m \u001b[49m\u001b[43ma\u001b[49m\u001b[43m \u001b[49m\u001b[38;5;241;43m<\u001b[39;49m\u001b[43m \u001b[49m\u001b[43ma\u001b[49m\u001b[38;5;241;43m.\u001b[39;49m\u001b[43mmean\u001b[49m\u001b[43m(\u001b[49m\u001b[43m)\u001b[49m]\n",
      "\u001b[0;31mValueError\u001b[0m: The truth value of an array with more than one element is ambiguous. Use a.any() or a.all()"
     ]
    }
   ],
   "source": [
    "a[a%2 == 0    and a < a.mean()]"
   ]
  },
  {
   "cell_type": "code",
   "execution_count": 96,
   "id": "6feeb281-6902-46cf-acb1-190f0b2aa974",
   "metadata": {},
   "outputs": [
    {
     "name": "stdout",
     "output_type": "stream",
     "text": [
      "It is False-ish\n"
     ]
    }
   ],
   "source": [
    "x = 0\n",
    "\n",
    "if x:\n",
    "    print('It is True-ish')\n",
    "else:\n",
    "    print('It is False-ish')"
   ]
  },
  {
   "cell_type": "markdown",
   "id": "82a95b6e-ab7c-4f3e-b15a-ba8d260cd0aa",
   "metadata": {},
   "source": [
    "# NumPy uses binary operators\n",
    "\n",
    "- `|` -- \"or\" for NumPy expressions\n",
    "- `&` -- \"and\" for NumPy expressions\n",
    "- `~` -- \"not\" for NumPy expressions"
   ]
  },
  {
   "cell_type": "code",
   "execution_count": 101,
   "id": "43255a7f-0b01-4666-95b4-95be7108c14c",
   "metadata": {},
   "outputs": [
    {
     "data": {
      "text/plain": [
       "array([False, False, False,  True, False, False, False, False, False,\n",
       "       False, False, False, False, False,  True,  True, False,  True,\n",
       "        True, False])"
      ]
     },
     "execution_count": 101,
     "metadata": {},
     "output_type": "execute_result"
    }
   ],
   "source": [
    "(a%2 == 0)  * (a < a.mean())"
   ]
  },
  {
   "cell_type": "code",
   "execution_count": 102,
   "id": "c6608892-0991-422a-9a1f-e8fa5f9fc4a0",
   "metadata": {},
   "outputs": [
    {
     "data": {
      "text/plain": [
       "array([192,  70, 472, 396, 314])"
      ]
     },
     "execution_count": 102,
     "metadata": {},
     "output_type": "execute_result"
    }
   ],
   "source": [
    "a[(a%2 == 0)  &  (a < a.mean())]"
   ]
  },
  {
   "cell_type": "code",
   "execution_count": 104,
   "id": "802fa554-5ada-4dc7-9103-d5af180c95fb",
   "metadata": {},
   "outputs": [
    {
     "data": {
      "text/plain": [
       "array([684, 192, 359,   9, 277, 754, 804,  70, 472, 600, 396, 314])"
      ]
     },
     "execution_count": 104,
     "metadata": {},
     "output_type": "execute_result"
    }
   ],
   "source": [
    "# return numbers that are either even *or* less than the mean\n",
    "a[(a%2 == 0) |  (a < a.mean())]"
   ]
  },
  {
   "cell_type": "code",
   "execution_count": 106,
   "id": "63a6ad3c-eb4e-472f-8eed-d918b1d12fef",
   "metadata": {},
   "outputs": [
    {
     "data": {
      "text/plain": [
       "array([684, 359,   9, 277, 754, 804, 600])"
      ]
     },
     "execution_count": 106,
     "metadata": {},
     "output_type": "execute_result"
    }
   ],
   "source": [
    "# even *xor* less than the mean (but not both)\n",
    "a[(a%2 == 0) ^  (a < a.mean())]"
   ]
  },
  {
   "cell_type": "code",
   "execution_count": 107,
   "id": "3ad33206-6856-4001-8129-a1a03f806c9b",
   "metadata": {},
   "outputs": [
    {
     "data": {
      "text/plain": [
       "array([684, 192, 359,   9, 277, 754, 804,  70, 472, 600, 396, 314])"
      ]
     },
     "execution_count": 107,
     "metadata": {},
     "output_type": "execute_result"
    }
   ],
   "source": [
    "a[(a%2 == 0) |\n",
    " (a < a.mean())]"
   ]
  },
  {
   "cell_type": "code",
   "execution_count": 108,
   "id": "b3ee1798-8b17-49fe-b5df-8270e13ac3af",
   "metadata": {},
   "outputs": [
    {
     "data": {
      "text/plain": [
       "array([10, 20, 30, 40, 50])"
      ]
     },
     "execution_count": 108,
     "metadata": {},
     "output_type": "execute_result"
    }
   ],
   "source": [
    "a = np.array([10, 20, 30, 40, 50])\n",
    "a"
   ]
  },
  {
   "cell_type": "code",
   "execution_count": 109,
   "id": "51f5c2b4-2537-493f-81c6-8d16d3d2026e",
   "metadata": {},
   "outputs": [
    {
     "data": {
      "text/plain": [
       "np.int64(10)"
      ]
     },
     "execution_count": 109,
     "metadata": {},
     "output_type": "execute_result"
    }
   ],
   "source": [
    "a[0]"
   ]
  },
  {
   "cell_type": "code",
   "execution_count": 110,
   "id": "d43d5c17-6c4b-49a1-a07e-93be1831c2c7",
   "metadata": {},
   "outputs": [
    {
     "data": {
      "text/plain": [
       "dtype('int64')"
      ]
     },
     "execution_count": 110,
     "metadata": {},
     "output_type": "execute_result"
    }
   ],
   "source": [
    "# dtype -- \n",
    "\n",
    "a.dtype"
   ]
  },
  {
   "cell_type": "code",
   "execution_count": 111,
   "id": "498376e3-2d98-4f81-b558-34addbfb9e8c",
   "metadata": {},
   "outputs": [
    {
     "data": {
      "text/plain": [
       "dtype('int64')"
      ]
     },
     "execution_count": 111,
     "metadata": {},
     "output_type": "execute_result"
    }
   ],
   "source": [
    "# if I create an array, NumPy:\n",
    "# - int64\n",
    "# - float64\n",
    "# - string (we won't deal with this)\n",
    "\n",
    "a = np.array([10, 20, 30, 40, 50])\n",
    "a.dtype"
   ]
  },
  {
   "cell_type": "code",
   "execution_count": 114,
   "id": "333c72f9-a061-4a90-a5c6-9218ab46deaf",
   "metadata": {},
   "outputs": [
    {
     "data": {
      "text/plain": [
       "array([10, 20, 30, 40, 50], dtype=int32)"
      ]
     },
     "execution_count": 114,
     "metadata": {},
     "output_type": "execute_result"
    }
   ],
   "source": [
    "a = np.array([10, 20, 30, 40, 50], dtype=np.int32)\n",
    "a"
   ]
  },
  {
   "cell_type": "code",
   "execution_count": 115,
   "id": "19e05825-27f0-4188-b3cc-a761601bb8b8",
   "metadata": {},
   "outputs": [
    {
     "data": {
      "text/plain": [
       "array([10, 20, 30, 40, 50], dtype=int32)"
      ]
     },
     "execution_count": 115,
     "metadata": {},
     "output_type": "execute_result"
    }
   ],
   "source": [
    "a = np.array([10, 20, 30, 40, 50], dtype='int32')\n",
    "a"
   ]
  },
  {
   "cell_type": "markdown",
   "id": "a4ca1e22-c5be-41ca-8317-0bb138bd1f97",
   "metadata": {},
   "source": [
    "# What dtypes do we have?\n",
    "\n",
    "- int\n",
    "    - `int64`\n",
    "    - `int32`\n",
    "    - `int16`\n",
    "    - `int8`\n",
    "- unsigned int\n",
    "    - `uint64`\n",
    "    - `uint32`\n",
    "    - `uint16`\n",
    "    - `uint8`\n",
    "- float\n",
    "    - `float64`\n",
    "    - `float32`\n"
   ]
  },
  {
   "cell_type": "code",
   "execution_count": 116,
   "id": "1471a844-b381-474a-9b50-c0a1fea66ea4",
   "metadata": {},
   "outputs": [
    {
     "data": {
      "text/plain": [
       "array([10, 20, 30, 40, 50], dtype=int8)"
      ]
     },
     "execution_count": 116,
     "metadata": {},
     "output_type": "execute_result"
    }
   ],
   "source": [
    "a = np.array([10, 20, 30, 40, 50], dtype='int8')\n",
    "a"
   ]
  },
  {
   "cell_type": "code",
   "execution_count": 117,
   "id": "6cfa6cbb-6b3b-4215-aeca-d40d0984c008",
   "metadata": {},
   "outputs": [
    {
     "data": {
      "text/plain": [
       "array([ -24,  -48,  -72,  -96, -120], dtype=int8)"
      ]
     },
     "execution_count": 117,
     "metadata": {},
     "output_type": "execute_result"
    }
   ],
   "source": [
    "a * 100"
   ]
  },
  {
   "cell_type": "code",
   "execution_count": 118,
   "id": "91b1b1a2-ac44-4bd4-b095-7f174651dd45",
   "metadata": {},
   "outputs": [
    {
     "ename": "OverflowError",
     "evalue": "Python integer 1000 out of bounds for int8",
     "output_type": "error",
     "traceback": [
      "\u001b[0;31m---------------------------------------------------------------------------\u001b[0m",
      "\u001b[0;31mOverflowError\u001b[0m                             Traceback (most recent call last)",
      "Cell \u001b[0;32mIn[118], line 1\u001b[0m\n\u001b[0;32m----> 1\u001b[0m \u001b[43ma\u001b[49m\u001b[43m \u001b[49m\u001b[38;5;241;43m*\u001b[39;49m\u001b[43m \u001b[49m\u001b[38;5;241;43m1000\u001b[39;49m\n",
      "\u001b[0;31mOverflowError\u001b[0m: Python integer 1000 out of bounds for int8"
     ]
    }
   ],
   "source": [
    "a * 1000"
   ]
  },
  {
   "cell_type": "code",
   "execution_count": 119,
   "id": "48582ade-ad21-4e0b-9d8f-297b24561816",
   "metadata": {},
   "outputs": [
    {
     "data": {
      "text/plain": [
       "array([10, 20, 30, 40, 50], dtype=uint8)"
      ]
     },
     "execution_count": 119,
     "metadata": {},
     "output_type": "execute_result"
    }
   ],
   "source": [
    "a = np.array([10, 20, 30, 40, 50], dtype='uint8')\n",
    "a"
   ]
  },
  {
   "cell_type": "code",
   "execution_count": 120,
   "id": "80e91778-02a7-459e-8f36-23ebc1c53609",
   "metadata": {},
   "outputs": [
    {
     "data": {
      "text/plain": [
       "array([232, 208, 184, 160, 136], dtype=uint8)"
      ]
     },
     "execution_count": 120,
     "metadata": {},
     "output_type": "execute_result"
    }
   ],
   "source": [
    "a * 100"
   ]
  },
  {
   "cell_type": "code",
   "execution_count": 121,
   "id": "defec0b2-0b9c-4d7d-8594-be4f60bb03c9",
   "metadata": {},
   "outputs": [
    {
     "data": {
      "text/plain": [
       "array([10, 20, 30, 40, 50], dtype=uint8)"
      ]
     },
     "execution_count": 121,
     "metadata": {},
     "output_type": "execute_result"
    }
   ],
   "source": [
    "a\n"
   ]
  },
  {
   "cell_type": "code",
   "execution_count": 122,
   "id": "e4ef1dd3-2d16-4e39-91d4-06f496db770a",
   "metadata": {},
   "outputs": [],
   "source": [
    "a[2] = 123.456"
   ]
  },
  {
   "cell_type": "code",
   "execution_count": 123,
   "id": "fbfd17b8-0dcc-495e-8254-d51640c70b98",
   "metadata": {},
   "outputs": [
    {
     "data": {
      "text/plain": [
       "array([ 10,  20, 123,  40,  50], dtype=uint8)"
      ]
     },
     "execution_count": 123,
     "metadata": {},
     "output_type": "execute_result"
    }
   ],
   "source": [
    "a"
   ]
  },
  {
   "cell_type": "code",
   "execution_count": 124,
   "id": "d02f1b11-7e39-404d-9b64-e623a8c39e68",
   "metadata": {},
   "outputs": [],
   "source": [
    "a[3] = '98'"
   ]
  },
  {
   "cell_type": "code",
   "execution_count": 125,
   "id": "395a9918-36e5-4dad-b051-d3f80c64f350",
   "metadata": {},
   "outputs": [
    {
     "data": {
      "text/plain": [
       "array([ 10,  20, 123,  98,  50], dtype=uint8)"
      ]
     },
     "execution_count": 125,
     "metadata": {},
     "output_type": "execute_result"
    }
   ],
   "source": [
    "a"
   ]
  },
  {
   "cell_type": "code",
   "execution_count": 126,
   "id": "85f2a5c5-318c-4266-9f73-2c087c639095",
   "metadata": {},
   "outputs": [
    {
     "ename": "ValueError",
     "evalue": "invalid literal for int() with base 10: 'hello'",
     "output_type": "error",
     "traceback": [
      "\u001b[0;31m---------------------------------------------------------------------------\u001b[0m",
      "\u001b[0;31mValueError\u001b[0m                                Traceback (most recent call last)",
      "Cell \u001b[0;32mIn[126], line 1\u001b[0m\n\u001b[0;32m----> 1\u001b[0m \u001b[43ma\u001b[49m\u001b[43m[\u001b[49m\u001b[38;5;241;43m3\u001b[39;49m\u001b[43m]\u001b[49m \u001b[38;5;241m=\u001b[39m \u001b[38;5;124m'\u001b[39m\u001b[38;5;124mhello\u001b[39m\u001b[38;5;124m'\u001b[39m\n",
      "\u001b[0;31mValueError\u001b[0m: invalid literal for int() with base 10: 'hello'"
     ]
    }
   ],
   "source": [
    "a[3] = 'hello'"
   ]
  },
  {
   "cell_type": "code",
   "execution_count": 127,
   "id": "2bc7459c-5288-43ff-8261-a9068c39fb7c",
   "metadata": {},
   "outputs": [
    {
     "data": {
      "text/plain": [
       "array([ 10,  20, 123,  98,  50], dtype=uint8)"
      ]
     },
     "execution_count": 127,
     "metadata": {},
     "output_type": "execute_result"
    }
   ],
   "source": [
    "a"
   ]
  },
  {
   "cell_type": "code",
   "execution_count": 128,
   "id": "075f3c1a-7ff0-4ce5-b062-e8a5db04df09",
   "metadata": {},
   "outputs": [
    {
     "ename": "ValueError",
     "evalue": "When changing to a larger dtype, its size must be a divisor of the total size in bytes of the last axis of the array.",
     "output_type": "error",
     "traceback": [
      "\u001b[0;31m---------------------------------------------------------------------------\u001b[0m",
      "\u001b[0;31mValueError\u001b[0m                                Traceback (most recent call last)",
      "Cell \u001b[0;32mIn[128], line 1\u001b[0m\n\u001b[0;32m----> 1\u001b[0m \u001b[43ma\u001b[49m\u001b[38;5;241;43m.\u001b[39;49m\u001b[43mdtype\u001b[49m  \u001b[38;5;241m=\u001b[39m np\u001b[38;5;241m.\u001b[39muint16\n",
      "\u001b[0;31mValueError\u001b[0m: When changing to a larger dtype, its size must be a divisor of the total size in bytes of the last axis of the array."
     ]
    }
   ],
   "source": [
    "a.dtype  = np.uint16"
   ]
  },
  {
   "cell_type": "code",
   "execution_count": 129,
   "id": "cd08014d-62b8-4f0b-9e9f-5d2da0ccb313",
   "metadata": {},
   "outputs": [],
   "source": [
    "a = np.array([10, 20, 30, 40, 50], dtype='uint64')\n"
   ]
  },
  {
   "cell_type": "code",
   "execution_count": 130,
   "id": "593abfa4-fcff-4321-8397-cc41c36f052c",
   "metadata": {},
   "outputs": [],
   "source": [
    "a.dtype = np.uint32"
   ]
  },
  {
   "cell_type": "code",
   "execution_count": 131,
   "id": "a939877b-cd5d-4418-b592-192ad38cfdeb",
   "metadata": {},
   "outputs": [
    {
     "data": {
      "text/plain": [
       "array([10,  0, 20,  0, 30,  0, 40,  0, 50,  0], dtype=uint32)"
      ]
     },
     "execution_count": 131,
     "metadata": {},
     "output_type": "execute_result"
    }
   ],
   "source": [
    "a"
   ]
  },
  {
   "cell_type": "code",
   "execution_count": 132,
   "id": "5fda3898-e751-4034-948a-11bde507c028",
   "metadata": {},
   "outputs": [
    {
     "data": {
      "text/plain": [
       "array([10,  0,  0,  0, 20,  0,  0,  0, 30,  0,  0,  0, 40,  0,  0,  0, 50,\n",
       "        0,  0,  0], dtype=uint16)"
      ]
     },
     "execution_count": 132,
     "metadata": {},
     "output_type": "execute_result"
    }
   ],
   "source": [
    "a.dtype = np.uint16\n",
    "a"
   ]
  },
  {
   "cell_type": "code",
   "execution_count": 133,
   "id": "226ab7a8-2745-4f26-8489-ff50e87580f0",
   "metadata": {},
   "outputs": [],
   "source": [
    "a.dtype = np.float64"
   ]
  },
  {
   "cell_type": "code",
   "execution_count": 134,
   "id": "c6bea5ff-12f4-4dc8-92a1-72c76f24a3e0",
   "metadata": {},
   "outputs": [
    {
     "data": {
      "text/plain": [
       "array([4.94e-323, 9.88e-323, 1.48e-322, 1.98e-322, 2.47e-322])"
      ]
     },
     "execution_count": 134,
     "metadata": {},
     "output_type": "execute_result"
    }
   ],
   "source": [
    "a"
   ]
  },
  {
   "cell_type": "code",
   "execution_count": 135,
   "id": "2d0d9983-d857-461f-8e3a-9ed41b56a887",
   "metadata": {},
   "outputs": [
    {
     "data": {
      "text/plain": [
       "array([10, 20, 30, 40, 50], dtype=uint64)"
      ]
     },
     "execution_count": 135,
     "metadata": {},
     "output_type": "execute_result"
    }
   ],
   "source": [
    "a.dtype = np.uint64\n",
    "a"
   ]
  },
  {
   "cell_type": "code",
   "execution_count": 136,
   "id": "3f574ab5-4924-4a9d-8838-7e1fc4133bbe",
   "metadata": {},
   "outputs": [
    {
     "data": {
      "text/plain": [
       "array([10., 20., 30., 40., 50.])"
      ]
     },
     "execution_count": 136,
     "metadata": {},
     "output_type": "execute_result"
    }
   ],
   "source": [
    "# astype\n",
    "\n",
    "a.astype('float64')"
   ]
  },
  {
   "cell_type": "code",
   "execution_count": 137,
   "id": "3cd75095-6a18-45db-8a98-d7ee183f8f75",
   "metadata": {},
   "outputs": [
    {
     "data": {
      "text/plain": [
       "array([10. , 20. , 30.5, 40. , 50. ])"
      ]
     },
     "execution_count": 137,
     "metadata": {},
     "output_type": "execute_result"
    }
   ],
   "source": [
    "a = np.array([10, 20, 30.5, 40, 50])\n",
    "a"
   ]
  },
  {
   "cell_type": "code",
   "execution_count": 138,
   "id": "432f5816-a15d-47be-a62b-f90cd868d0a3",
   "metadata": {},
   "outputs": [
    {
     "data": {
      "text/plain": [
       "dtype('float64')"
      ]
     },
     "execution_count": 138,
     "metadata": {},
     "output_type": "execute_result"
    }
   ],
   "source": [
    "a.dtype"
   ]
  },
  {
   "cell_type": "code",
   "execution_count": 139,
   "id": "a53b3bfc-5d42-401c-a054-ef28ad67432d",
   "metadata": {},
   "outputs": [
    {
     "data": {
      "text/plain": [
       "array([10, 20, 30, 40, 50])"
      ]
     },
     "execution_count": 139,
     "metadata": {},
     "output_type": "execute_result"
    }
   ],
   "source": [
    "a.astype('int64')"
   ]
  },
  {
   "cell_type": "code",
   "execution_count": 140,
   "id": "a958809c-b3e8-4e30-94bf-33cdf0c3019c",
   "metadata": {},
   "outputs": [],
   "source": [
    "a = np.array([0.1, 0.2, 0.3, 0.4, 0.5], dtype=np.float16)"
   ]
  },
  {
   "cell_type": "code",
   "execution_count": 141,
   "id": "26dfe195-3d37-41a5-8847-ede46aba62b3",
   "metadata": {},
   "outputs": [
    {
     "data": {
      "text/plain": [
       "array([0.1, 0.2, 0.3, 0.4, 0.5], dtype=float16)"
      ]
     },
     "execution_count": 141,
     "metadata": {},
     "output_type": "execute_result"
    }
   ],
   "source": [
    "a"
   ]
  },
  {
   "cell_type": "code",
   "execution_count": 142,
   "id": "a0df8b24-91ca-45f0-8c6a-c543deffdd42",
   "metadata": {},
   "outputs": [
    {
     "data": {
      "text/plain": [
       "array([0.2   , 0.2998, 0.4   , 0.5   , 0.6   ], dtype=float16)"
      ]
     },
     "execution_count": 142,
     "metadata": {},
     "output_type": "execute_result"
    }
   ],
   "source": [
    "a + 0.1"
   ]
  },
  {
   "cell_type": "code",
   "execution_count": 143,
   "id": "8a44342d-02f8-4faf-99a1-0f4308fac45e",
   "metadata": {},
   "outputs": [
    {
     "data": {
      "text/plain": [
       "0.30000000000000004"
      ]
     },
     "execution_count": 143,
     "metadata": {},
     "output_type": "execute_result"
    }
   ],
   "source": [
    "0.1 + 0.2"
   ]
  },
  {
   "cell_type": "code",
   "execution_count": 145,
   "id": "32afa935-38db-4426-834a-5a26604f2f52",
   "metadata": {},
   "outputs": [
    {
     "data": {
      "text/plain": [
       "array([0.2, 0.3, 0.4, 0.5, 0.6])"
      ]
     },
     "execution_count": 145,
     "metadata": {},
     "output_type": "execute_result"
    }
   ],
   "source": [
    "a = np.array([0.1, 0.2, 0.3, 0.4, 0.5], dtype=np.float64)\n",
    "a + 0.1"
   ]
  },
  {
   "cell_type": "code",
   "execution_count": 146,
   "id": "dcbe8bdc-e033-4bad-87ce-cfdd3604d880",
   "metadata": {},
   "outputs": [
    {
     "data": {
      "text/plain": [
       "array(['this', 'is', 'a', 'great', 'example'], dtype='<U7')"
      ]
     },
     "execution_count": 146,
     "metadata": {},
     "output_type": "execute_result"
    }
   ],
   "source": [
    "a = np.array('this is a great example'.split())\n",
    "a"
   ]
  },
  {
   "cell_type": "code",
   "execution_count": 147,
   "id": "c5969672-54c2-4eaf-8de2-6a8ac28d3c5b",
   "metadata": {},
   "outputs": [
    {
     "data": {
      "text/plain": [
       "array(['abcdefg', 'is', 'a', 'great', 'example'], dtype='<U7')"
      ]
     },
     "execution_count": 147,
     "metadata": {},
     "output_type": "execute_result"
    }
   ],
   "source": [
    "a[0] = 'abcdefghij'\n",
    "a"
   ]
  },
  {
   "cell_type": "markdown",
   "id": "e9038e92-1d39-4a28-9fa2-c3c287d77edf",
   "metadata": {},
   "source": [
    "# Exercise: dtypes\n",
    "\n",
    "1. Define a NumPy array with 20 floats from 0-1,000.\n",
    "2. Calculate the mean of all numbers whose int portion is even."
   ]
  },
  {
   "cell_type": "code",
   "execution_count": 148,
   "id": "124f9e80-9f62-4d18-9117-23d2644ce6db",
   "metadata": {},
   "outputs": [
    {
     "data": {
      "text/plain": [
       "array([548.81350393, 715.18936637, 602.76337607, 544.883183  ,\n",
       "       423.65479934, 645.89411307, 437.58721126, 891.77300078,\n",
       "       963.6627605 , 383.44151883, 791.72503808, 528.89491975,\n",
       "       568.04456109, 925.59663829,  71.0360582 ,  87.1292997 ,\n",
       "        20.21839744, 832.61984555, 778.15675095, 870.01214825])"
      ]
     },
     "execution_count": 148,
     "metadata": {},
     "output_type": "execute_result"
    }
   ],
   "source": [
    "np.random.seed(0)\n",
    "\n",
    "a = np.random.rand(20) * 1000\n",
    "a"
   ]
  },
  {
   "cell_type": "code",
   "execution_count": 153,
   "id": "56925b9f-f39f-4dc2-a8af-4541e626540a",
   "metadata": {},
   "outputs": [
    {
     "data": {
      "text/plain": [
       "array([548.81350393, 602.76337607, 544.883183  , 528.89491975,\n",
       "       568.04456109,  20.21839744, 832.61984555, 778.15675095,\n",
       "       870.01214825])"
      ]
     },
     "execution_count": 153,
     "metadata": {},
     "output_type": "execute_result"
    }
   ],
   "source": [
    "a[a.astype('int64') % 2 == 0]"
   ]
  },
  {
   "cell_type": "code",
   "execution_count": null,
   "id": "6b48efd8-91af-4046-8890-3cd21a8d72dc",
   "metadata": {},
   "outputs": [],
   "source": []
  }
 ],
 "metadata": {
  "kernelspec": {
   "display_name": "Python 3 (ipykernel)",
   "language": "python",
   "name": "python3"
  },
  "language_info": {
   "codemirror_mode": {
    "name": "ipython",
    "version": 3
   },
   "file_extension": ".py",
   "mimetype": "text/x-python",
   "name": "python",
   "nbconvert_exporter": "python",
   "pygments_lexer": "ipython3",
   "version": "3.13.1"
  },
  "widgets": {
   "application/vnd.jupyter.widget-state+json": {
    "state": {},
    "version_major": 2,
    "version_minor": 0
   }
  }
 },
 "nbformat": 4,
 "nbformat_minor": 5
}
