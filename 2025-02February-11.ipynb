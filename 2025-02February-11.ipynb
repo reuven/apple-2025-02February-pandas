{
 "cells": [
  {
   "cell_type": "markdown",
   "id": "3cd2404a-8593-4c2a-b4a5-4a18d07ca502",
   "metadata": {},
   "source": [
    "# Agenda\n",
    "\n",
    "1. NumPy\n",
    "2. Pandas series\n",
    "3. Data frames\n",
    "4. Indexes, sorting, grouping\n",
    "5. Dates + times\n",
    "6. Optimization of time + memory + speed"
   ]
  },
  {
   "cell_type": "code",
   "execution_count": 1,
   "id": "d1185c7b-239d-49a4-9419-d7d2fa13ef53",
   "metadata": {},
   "outputs": [],
   "source": [
    "x = 5\n",
    "\n"
   ]
  },
  {
   "cell_type": "code",
   "execution_count": 2,
   "id": "b97ac0cb-35a9-4c24-85e2-6474ca636882",
   "metadata": {},
   "outputs": [
    {
     "data": {
      "text/plain": [
       "int"
      ]
     },
     "execution_count": 2,
     "metadata": {},
     "output_type": "execute_result"
    }
   ],
   "source": [
    "type(x)"
   ]
  },
  {
   "cell_type": "code",
   "execution_count": 3,
   "id": "652f0991-5e30-4401-894f-bd18dff0e499",
   "metadata": {},
   "outputs": [
    {
     "data": {
      "text/plain": [
       "str"
      ]
     },
     "execution_count": 3,
     "metadata": {},
     "output_type": "execute_result"
    }
   ],
   "source": [
    "x = 'abcd'\n",
    "type(x)"
   ]
  },
  {
   "cell_type": "code",
   "execution_count": 4,
   "id": "98c00ac5-c739-4b93-a822-3f15a013bcea",
   "metadata": {},
   "outputs": [
    {
     "data": {
      "text/plain": [
       "28"
      ]
     },
     "execution_count": 4,
     "metadata": {},
     "output_type": "execute_result"
    }
   ],
   "source": [
    "x = 0\n",
    "\n",
    "import sys\n",
    "sys.getsizeof(x)"
   ]
  },
  {
   "cell_type": "code",
   "execution_count": 5,
   "id": "5092e664-b8e9-4408-8042-1136f8d8a1c5",
   "metadata": {},
   "outputs": [],
   "source": [
    "x = 100000"
   ]
  },
  {
   "cell_type": "code",
   "execution_count": 6,
   "id": "15bb3a86-e13c-4f70-ad91-02dfad528b0d",
   "metadata": {},
   "outputs": [
    {
     "data": {
      "text/plain": [
       "28"
      ]
     },
     "execution_count": 6,
     "metadata": {},
     "output_type": "execute_result"
    }
   ],
   "source": [
    "sys.getsizeof(x)"
   ]
  },
  {
   "cell_type": "code",
   "execution_count": 7,
   "id": "128902be-ca64-4e46-8eb3-9b993480d2d9",
   "metadata": {},
   "outputs": [],
   "source": [
    "x = x ** 1000"
   ]
  },
  {
   "cell_type": "code",
   "execution_count": 8,
   "id": "977349b4-6173-4eae-9d40-2bbc4964acf7",
   "metadata": {},
   "outputs": [
    {
     "data": {
      "text/plain": [
       "2240"
      ]
     },
     "execution_count": 8,
     "metadata": {},
     "output_type": "execute_result"
    }
   ],
   "source": [
    "sys.getsizeof(x)"
   ]
  },
  {
   "cell_type": "markdown",
   "id": "13a7a2d3-5aac-4838-be2d-57a0d248a0a0",
   "metadata": {},
   "source": [
    "# NumPy \n",
    "\n",
    "C data with a Python API"
   ]
  },
  {
   "cell_type": "code",
   "execution_count": 9,
   "id": "a2b2abac-0810-4a02-a6ad-29d7f006be2a",
   "metadata": {},
   "outputs": [],
   "source": [
    "import numpy as np"
   ]
  },
  {
   "cell_type": "code",
   "execution_count": null,
   "id": "606e434a-d074-45d7-85ff-ddecd00bff5d",
   "metadata": {},
   "outputs": [],
   "source": [
    "# NumPy nd-array "
   ]
  }
 ],
 "metadata": {
  "kernelspec": {
   "display_name": "Python 3 (ipykernel)",
   "language": "python",
   "name": "python3"
  },
  "language_info": {
   "codemirror_mode": {
    "name": "ipython",
    "version": 3
   },
   "file_extension": ".py",
   "mimetype": "text/x-python",
   "name": "python",
   "nbconvert_exporter": "python",
   "pygments_lexer": "ipython3",
   "version": "3.13.1"
  },
  "widgets": {
   "application/vnd.jupyter.widget-state+json": {
    "state": {},
    "version_major": 2,
    "version_minor": 0
   }
  }
 },
 "nbformat": 4,
 "nbformat_minor": 5
}
