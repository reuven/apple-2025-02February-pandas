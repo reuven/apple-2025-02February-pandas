{
 "cells": [
  {
   "cell_type": "markdown",
   "id": "657fea95-7fcb-45fb-96ce-0f43cd49713a",
   "metadata": {},
   "source": [
    "# Pandas series\n",
    "\n",
    "1. Creating a series\n",
    "2. Indexes (Pandas vs. NumPy)\n",
    "3. `.loc` and `.iloc`\n",
    "4. dtypes\n",
    "5. `nan` and Pandas\n",
    "6. Methods, mask indexes"
   ]
  },
  {
   "cell_type": "code",
   "execution_count": 1,
   "id": "c1857ac7-f15f-4d96-927e-126c9eca7cff",
   "metadata": {},
   "outputs": [],
   "source": [
    "import numpy as np\n",
    "import pandas as pd\n",
    "from pandas import Series, DataFrame"
   ]
  },
  {
   "cell_type": "code",
   "execution_count": 2,
   "id": "8d7e2515-5d6f-4235-aabf-2fe6f06d6ce4",
   "metadata": {},
   "outputs": [
    {
     "data": {
      "text/plain": [
       "array([10, 20, 30, 40, 50], dtype=int8)"
      ]
     },
     "execution_count": 2,
     "metadata": {},
     "output_type": "execute_result"
    }
   ],
   "source": [
    "a = np.array([10, 20, 30, 40, 50], dtype=np.int8)\n",
    "a"
   ]
  },
  {
   "cell_type": "code",
   "execution_count": 3,
   "id": "116e5c15-6f52-4a19-86eb-0ca2e193a02a",
   "metadata": {},
   "outputs": [
    {
     "data": {
      "text/plain": [
       "0    10\n",
       "1    20\n",
       "2    30\n",
       "3    40\n",
       "4    50\n",
       "dtype: int64"
      ]
     },
     "execution_count": 3,
     "metadata": {},
     "output_type": "execute_result"
    }
   ],
   "source": [
    "# Create a series in a similar way\n",
    "\n",
    "s = Series([10, 20, 30, 40, 50])\n",
    "s"
   ]
  },
  {
   "cell_type": "code",
   "execution_count": 4,
   "id": "9b0034bf-4a58-4fe1-973c-ce408e943180",
   "metadata": {},
   "outputs": [],
   "source": [
    "# NumPy methods work!"
   ]
  },
  {
   "cell_type": "code",
   "execution_count": 5,
   "id": "e5dc24c5-470a-4099-8fcb-148381f5af18",
   "metadata": {},
   "outputs": [
    {
     "data": {
      "text/plain": [
       "np.int64(10)"
      ]
     },
     "execution_count": 5,
     "metadata": {},
     "output_type": "execute_result"
    }
   ],
   "source": [
    "s.min()"
   ]
  },
  {
   "cell_type": "code",
   "execution_count": 6,
   "id": "2e40f3ba-1bb0-4232-a40a-637cb3fe06de",
   "metadata": {},
   "outputs": [
    {
     "data": {
      "text/plain": [
       "np.int64(50)"
      ]
     },
     "execution_count": 6,
     "metadata": {},
     "output_type": "execute_result"
    }
   ],
   "source": [
    "s.max()"
   ]
  },
  {
   "cell_type": "code",
   "execution_count": 7,
   "id": "43996495-853d-4a27-960c-24e1470be000",
   "metadata": {},
   "outputs": [
    {
     "data": {
      "text/plain": [
       "np.float64(30.0)"
      ]
     },
     "execution_count": 7,
     "metadata": {},
     "output_type": "execute_result"
    }
   ],
   "source": [
    "s.mean()"
   ]
  },
  {
   "cell_type": "code",
   "execution_count": 8,
   "id": "4c91b6ed-3b2f-47a5-ae5c-bf18206677ff",
   "metadata": {},
   "outputs": [
    {
     "data": {
      "text/plain": [
       "np.float64(15.811388300841896)"
      ]
     },
     "execution_count": 8,
     "metadata": {},
     "output_type": "execute_result"
    }
   ],
   "source": [
    "s.std()"
   ]
  },
  {
   "cell_type": "code",
   "execution_count": 9,
   "id": "6b651389-7396-4d5a-a1ad-7bc506114d61",
   "metadata": {},
   "outputs": [
    {
     "data": {
      "text/plain": [
       "np.int64(30)"
      ]
     },
     "execution_count": 9,
     "metadata": {},
     "output_type": "execute_result"
    }
   ],
   "source": [
    "# retrieve values from our series with []\n",
    "s[2]"
   ]
  },
  {
   "cell_type": "code",
   "execution_count": 10,
   "id": "10309201-0a30-4f6f-bd0a-7d5ab3d15693",
   "metadata": {},
   "outputs": [
    {
     "data": {
      "text/plain": [
       "2    30\n",
       "4    50\n",
       "dtype: int64"
      ]
     },
     "execution_count": 10,
     "metadata": {},
     "output_type": "execute_result"
    }
   ],
   "source": [
    "# fancy indexing\n",
    "\n",
    "s[ [2, 4] ]"
   ]
  },
  {
   "cell_type": "code",
   "execution_count": 11,
   "id": "cd660e2f-494c-4a6d-a85f-92a338974e26",
   "metadata": {},
   "outputs": [
    {
     "data": {
      "text/plain": [
       "2    30\n",
       "dtype: int64"
      ]
     },
     "execution_count": 11,
     "metadata": {},
     "output_type": "execute_result"
    }
   ],
   "source": [
    "s[ [2 ]]"
   ]
  },
  {
   "cell_type": "code",
   "execution_count": 12,
   "id": "db2eead9-3cf0-4669-b88b-039e7ba64e94",
   "metadata": {},
   "outputs": [
    {
     "data": {
      "text/plain": [
       "0    False\n",
       "1    False\n",
       "2     True\n",
       "3    False\n",
       "4    False\n",
       "dtype: bool"
      ]
     },
     "execution_count": 12,
     "metadata": {},
     "output_type": "execute_result"
    }
   ],
   "source": [
    "# comparisons\n",
    "\n",
    "s == 30"
   ]
  },
  {
   "cell_type": "code",
   "execution_count": 13,
   "id": "7ad3680f-efba-48bc-98f3-64d9eff09625",
   "metadata": {},
   "outputs": [
    {
     "data": {
      "text/plain": [
       "2    30\n",
       "dtype: int64"
      ]
     },
     "execution_count": 13,
     "metadata": {},
     "output_type": "execute_result"
    }
   ],
   "source": [
    "# mask index / boolean index\n",
    "s[ s == 30  ]"
   ]
  },
  {
   "cell_type": "code",
   "execution_count": null,
   "id": "fb6ca880-3fbc-4b6f-b6a5-377d5c8e37cf",
   "metadata": {},
   "outputs": [],
   "source": []
  },
  {
   "cell_type": "code",
   "execution_count": 15,
   "id": "714f2dd9-256a-442d-86da-89bfb54404e0",
   "metadata": {},
   "outputs": [
    {
     "data": {
      "text/plain": [
       "0    10\n",
       "1    20\n",
       "2    30\n",
       "dtype: int64"
      ]
     },
     "execution_count": 15,
     "metadata": {},
     "output_type": "execute_result"
    }
   ],
   "source": [
    "s[ s <= 30] "
   ]
  },
  {
   "cell_type": "code",
   "execution_count": 16,
   "id": "8602a483-69d5-4aee-8980-625d70735c7f",
   "metadata": {},
   "outputs": [
    {
     "data": {
      "text/plain": [
       "0    10\n",
       "1    20\n",
       "2    30\n",
       "3    40\n",
       "4    50\n",
       "dtype: int8"
      ]
     },
     "execution_count": 16,
     "metadata": {},
     "output_type": "execute_result"
    }
   ],
   "source": [
    "s = Series(a)\n",
    "s"
   ]
  },
  {
   "cell_type": "markdown",
   "id": "8b28cf24-fe77-4735-b65d-8ae862b79612",
   "metadata": {},
   "source": [
    "# Exercise: Pandas series\n",
    "\n",
    "1. Create a series for the expected high temperatures in the next 10 days.\n",
    "2. What are the min and max high temperatures?\n",
    "3. On how many days will we have temperatures below the mean?\n",
    "4. What is the mean in the first 5 days? In the last 5 days?"
   ]
  },
  {
   "cell_type": "code",
   "execution_count": null,
   "id": "8af9deac-8c62-415b-b0d6-5c997164d701",
   "metadata": {},
   "outputs": [],
   "source": []
  }
 ],
 "metadata": {
  "kernelspec": {
   "display_name": "Python 3 (ipykernel)",
   "language": "python",
   "name": "python3"
  },
  "language_info": {
   "codemirror_mode": {
    "name": "ipython",
    "version": 3
   },
   "file_extension": ".py",
   "mimetype": "text/x-python",
   "name": "python",
   "nbconvert_exporter": "python",
   "pygments_lexer": "ipython3",
   "version": "3.13.1"
  },
  "widgets": {
   "application/vnd.jupyter.widget-state+json": {
    "state": {},
    "version_major": 2,
    "version_minor": 0
   }
  }
 },
 "nbformat": 4,
 "nbformat_minor": 5
}
