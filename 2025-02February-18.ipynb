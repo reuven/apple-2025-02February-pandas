{
 "cells": [
  {
   "cell_type": "markdown",
   "id": "657fea95-7fcb-45fb-96ce-0f43cd49713a",
   "metadata": {},
   "source": [
    "# Pandas series\n",
    "\n",
    "1. Creating a series\n",
    "2. Indexes (Pandas vs. NumPy)\n",
    "3. `.loc` and `.iloc`\n",
    "4. dtypes\n",
    "5. `nan` and Pandas\n",
    "6. Methods, mask indexes"
   ]
  },
  {
   "cell_type": "code",
   "execution_count": 1,
   "id": "c1857ac7-f15f-4d96-927e-126c9eca7cff",
   "metadata": {},
   "outputs": [],
   "source": [
    "import numpy as np\n",
    "import pandas as pd\n",
    "from pandas import Series, DataFrame"
   ]
  },
  {
   "cell_type": "code",
   "execution_count": 2,
   "id": "8d7e2515-5d6f-4235-aabf-2fe6f06d6ce4",
   "metadata": {},
   "outputs": [
    {
     "data": {
      "text/plain": [
       "array([10, 20, 30, 40, 50], dtype=int8)"
      ]
     },
     "execution_count": 2,
     "metadata": {},
     "output_type": "execute_result"
    }
   ],
   "source": [
    "a = np.array([10, 20, 30, 40, 50], dtype=np.int8)\n",
    "a"
   ]
  },
  {
   "cell_type": "code",
   "execution_count": 3,
   "id": "116e5c15-6f52-4a19-86eb-0ca2e193a02a",
   "metadata": {},
   "outputs": [
    {
     "data": {
      "text/plain": [
       "0    10\n",
       "1    20\n",
       "2    30\n",
       "3    40\n",
       "4    50\n",
       "dtype: int64"
      ]
     },
     "execution_count": 3,
     "metadata": {},
     "output_type": "execute_result"
    }
   ],
   "source": [
    "# Create a series in a similar way\n",
    "\n",
    "s = Series([10, 20, 30, 40, 50])\n",
    "s"
   ]
  },
  {
   "cell_type": "code",
   "execution_count": 4,
   "id": "9b0034bf-4a58-4fe1-973c-ce408e943180",
   "metadata": {},
   "outputs": [],
   "source": [
    "# NumPy methods work!"
   ]
  },
  {
   "cell_type": "code",
   "execution_count": 5,
   "id": "e5dc24c5-470a-4099-8fcb-148381f5af18",
   "metadata": {},
   "outputs": [
    {
     "data": {
      "text/plain": [
       "np.int64(10)"
      ]
     },
     "execution_count": 5,
     "metadata": {},
     "output_type": "execute_result"
    }
   ],
   "source": [
    "s.min()"
   ]
  },
  {
   "cell_type": "code",
   "execution_count": 6,
   "id": "2e40f3ba-1bb0-4232-a40a-637cb3fe06de",
   "metadata": {},
   "outputs": [
    {
     "data": {
      "text/plain": [
       "np.int64(50)"
      ]
     },
     "execution_count": 6,
     "metadata": {},
     "output_type": "execute_result"
    }
   ],
   "source": [
    "s.max()"
   ]
  },
  {
   "cell_type": "code",
   "execution_count": 7,
   "id": "43996495-853d-4a27-960c-24e1470be000",
   "metadata": {},
   "outputs": [
    {
     "data": {
      "text/plain": [
       "np.float64(30.0)"
      ]
     },
     "execution_count": 7,
     "metadata": {},
     "output_type": "execute_result"
    }
   ],
   "source": [
    "s.mean()"
   ]
  },
  {
   "cell_type": "code",
   "execution_count": 8,
   "id": "4c91b6ed-3b2f-47a5-ae5c-bf18206677ff",
   "metadata": {},
   "outputs": [
    {
     "data": {
      "text/plain": [
       "np.float64(15.811388300841896)"
      ]
     },
     "execution_count": 8,
     "metadata": {},
     "output_type": "execute_result"
    }
   ],
   "source": [
    "s.std()"
   ]
  },
  {
   "cell_type": "code",
   "execution_count": 9,
   "id": "6b651389-7396-4d5a-a1ad-7bc506114d61",
   "metadata": {},
   "outputs": [
    {
     "data": {
      "text/plain": [
       "np.int64(30)"
      ]
     },
     "execution_count": 9,
     "metadata": {},
     "output_type": "execute_result"
    }
   ],
   "source": [
    "# retrieve values from our series with []\n",
    "s[2]"
   ]
  },
  {
   "cell_type": "code",
   "execution_count": 10,
   "id": "10309201-0a30-4f6f-bd0a-7d5ab3d15693",
   "metadata": {},
   "outputs": [
    {
     "data": {
      "text/plain": [
       "2    30\n",
       "4    50\n",
       "dtype: int64"
      ]
     },
     "execution_count": 10,
     "metadata": {},
     "output_type": "execute_result"
    }
   ],
   "source": [
    "# fancy indexing\n",
    "\n",
    "s[ [2, 4] ]"
   ]
  },
  {
   "cell_type": "code",
   "execution_count": 11,
   "id": "cd660e2f-494c-4a6d-a85f-92a338974e26",
   "metadata": {},
   "outputs": [
    {
     "data": {
      "text/plain": [
       "2    30\n",
       "dtype: int64"
      ]
     },
     "execution_count": 11,
     "metadata": {},
     "output_type": "execute_result"
    }
   ],
   "source": [
    "s[ [2 ]]"
   ]
  },
  {
   "cell_type": "code",
   "execution_count": 12,
   "id": "db2eead9-3cf0-4669-b88b-039e7ba64e94",
   "metadata": {},
   "outputs": [
    {
     "data": {
      "text/plain": [
       "0    False\n",
       "1    False\n",
       "2     True\n",
       "3    False\n",
       "4    False\n",
       "dtype: bool"
      ]
     },
     "execution_count": 12,
     "metadata": {},
     "output_type": "execute_result"
    }
   ],
   "source": [
    "# comparisons\n",
    "\n",
    "s == 30"
   ]
  },
  {
   "cell_type": "code",
   "execution_count": 13,
   "id": "7ad3680f-efba-48bc-98f3-64d9eff09625",
   "metadata": {},
   "outputs": [
    {
     "data": {
      "text/plain": [
       "2    30\n",
       "dtype: int64"
      ]
     },
     "execution_count": 13,
     "metadata": {},
     "output_type": "execute_result"
    }
   ],
   "source": [
    "# mask index / boolean index\n",
    "s[ s == 30  ]"
   ]
  },
  {
   "cell_type": "code",
   "execution_count": null,
   "id": "fb6ca880-3fbc-4b6f-b6a5-377d5c8e37cf",
   "metadata": {},
   "outputs": [],
   "source": []
  },
  {
   "cell_type": "code",
   "execution_count": 15,
   "id": "714f2dd9-256a-442d-86da-89bfb54404e0",
   "metadata": {},
   "outputs": [
    {
     "data": {
      "text/plain": [
       "0    10\n",
       "1    20\n",
       "2    30\n",
       "dtype: int64"
      ]
     },
     "execution_count": 15,
     "metadata": {},
     "output_type": "execute_result"
    }
   ],
   "source": [
    "s[ s <= 30] "
   ]
  },
  {
   "cell_type": "code",
   "execution_count": 16,
   "id": "8602a483-69d5-4aee-8980-625d70735c7f",
   "metadata": {},
   "outputs": [
    {
     "data": {
      "text/plain": [
       "0    10\n",
       "1    20\n",
       "2    30\n",
       "3    40\n",
       "4    50\n",
       "dtype: int8"
      ]
     },
     "execution_count": 16,
     "metadata": {},
     "output_type": "execute_result"
    }
   ],
   "source": [
    "s = Series(a)\n",
    "s"
   ]
  },
  {
   "cell_type": "markdown",
   "id": "8b28cf24-fe77-4735-b65d-8ae862b79612",
   "metadata": {},
   "source": [
    "# Exercise: Pandas series\n",
    "\n",
    "1. Create a series for the expected high temperatures in the next 10 days.\n",
    "2. What are the min and max high temperatures?\n",
    "3. On how many days will we have temperatures below the mean?\n",
    "4. What is the mean in the first 5 days? In the last 5 days?"
   ]
  },
  {
   "cell_type": "code",
   "execution_count": 17,
   "id": "8af9deac-8c62-415b-b0d6-5c997164d701",
   "metadata": {},
   "outputs": [
    {
     "data": {
      "text/plain": [
       "0    18\n",
       "1    15\n",
       "2    12\n",
       "3    11\n",
       "4    10\n",
       "5     9\n",
       "6    12\n",
       "7    15\n",
       "8    17\n",
       "9    18\n",
       "dtype: int64"
      ]
     },
     "execution_count": 17,
     "metadata": {},
     "output_type": "execute_result"
    }
   ],
   "source": [
    "s = Series([18, 15, 12, 11, 10, 9, 12, 15, 17, 18])\n",
    "s"
   ]
  },
  {
   "cell_type": "code",
   "execution_count": 18,
   "id": "86ecf268-b5a2-4059-a7c2-6fbedc1ed7a1",
   "metadata": {},
   "outputs": [
    {
     "data": {
      "text/plain": [
       "np.int64(9)"
      ]
     },
     "execution_count": 18,
     "metadata": {},
     "output_type": "execute_result"
    }
   ],
   "source": [
    "# 2. What are the min and max high temperatures?\n",
    "\n",
    "s.min()"
   ]
  },
  {
   "cell_type": "code",
   "execution_count": 20,
   "id": "be665184-500d-4158-9d98-afec20730472",
   "metadata": {},
   "outputs": [
    {
     "data": {
      "text/plain": [
       "np.int64(18)"
      ]
     },
     "execution_count": 20,
     "metadata": {},
     "output_type": "execute_result"
    }
   ],
   "source": [
    "s.max()"
   ]
  },
  {
   "cell_type": "code",
   "execution_count": 21,
   "id": "6e545402-2341-401e-b0a9-524630f31ffd",
   "metadata": {
    "scrolled": true
   },
   "outputs": [
    {
     "name": "stdout",
     "output_type": "stream",
     "text": [
      "Help on method max in module pandas.core.series:\n",
      "\n",
      "max(\n",
      "    axis: 'Axis | None' = 0,\n",
      "    skipna: 'bool' = True,\n",
      "    numeric_only: 'bool' = False,\n",
      "    **kwargs\n",
      ") method of pandas.core.series.Series instance\n",
      "    Return the maximum of the values over the requested axis.\n",
      "\n",
      "    If you want the *index* of the maximum, use ``idxmax``. This is the equivalent of the ``numpy.ndarray`` method ``argmax``.\n",
      "\n",
      "    Parameters\n",
      "    ----------\n",
      "    axis : {index (0)}\n",
      "        Axis for the function to be applied on.\n",
      "        For `Series` this parameter is unused and defaults to 0.\n",
      "\n",
      "        For DataFrames, specifying ``axis=None`` will apply the aggregation\n",
      "        across both axes.\n",
      "\n",
      "        .. versionadded:: 2.0.0\n",
      "\n",
      "    skipna : bool, default True\n",
      "        Exclude NA/null values when computing the result.\n",
      "    numeric_only : bool, default False\n",
      "        Include only float, int, boolean columns. Not implemented for Series.\n",
      "\n",
      "    **kwargs\n",
      "        Additional keyword arguments to be passed to the function.\n",
      "\n",
      "    Returns\n",
      "    -------\n",
      "    scalar or scalar\n",
      "\n",
      "    See Also\n",
      "    --------\n",
      "    Series.sum : Return the sum.\n",
      "    Series.min : Return the minimum.\n",
      "    Series.max : Return the maximum.\n",
      "    Series.idxmin : Return the index of the minimum.\n",
      "    Series.idxmax : Return the index of the maximum.\n",
      "    DataFrame.sum : Return the sum over the requested axis.\n",
      "    DataFrame.min : Return the minimum over the requested axis.\n",
      "    DataFrame.max : Return the maximum over the requested axis.\n",
      "    DataFrame.idxmin : Return the index of the minimum over the requested axis.\n",
      "    DataFrame.idxmax : Return the index of the maximum over the requested axis.\n",
      "\n",
      "    Examples\n",
      "    --------\n",
      "    >>> idx = pd.MultiIndex.from_arrays([\n",
      "    ...     ['warm', 'warm', 'cold', 'cold'],\n",
      "    ...     ['dog', 'falcon', 'fish', 'spider']],\n",
      "    ...     names=['blooded', 'animal'])\n",
      "    >>> s = pd.Series([4, 2, 0, 8], name='legs', index=idx)\n",
      "    >>> s\n",
      "    blooded  animal\n",
      "    warm     dog       4\n",
      "             falcon    2\n",
      "    cold     fish      0\n",
      "             spider    8\n",
      "    Name: legs, dtype: int64\n",
      "\n",
      "    >>> s.max()\n",
      "    8\n",
      "\n"
     ]
    }
   ],
   "source": [
    "help(s.max)  "
   ]
  },
  {
   "cell_type": "code",
   "execution_count": 22,
   "id": "1b1196ee-3ca9-4af0-b72e-18469bc0b537",
   "metadata": {
    "scrolled": true
   },
   "outputs": [
    {
     "data": {
      "text/plain": [
       "count    10.000\n",
       "mean     13.700\n",
       "std       3.335\n",
       "min       9.000\n",
       "25%      11.250\n",
       "50%      13.500\n",
       "75%      16.500\n",
       "max      18.000\n",
       "dtype: float64"
      ]
     },
     "execution_count": 22,
     "metadata": {},
     "output_type": "execute_result"
    }
   ],
   "source": [
    "s.describe()"
   ]
  },
  {
   "cell_type": "code",
   "execution_count": 23,
   "id": "6bf84b3f-ebd5-42cb-a89d-f6648bfc60de",
   "metadata": {
    "collapsed": true,
    "jupyter": {
     "outputs_hidden": true
    }
   },
   "outputs": [
    {
     "data": {
      "text/plain": [
       "min     9\n",
       "max    18\n",
       "dtype: int64"
      ]
     },
     "execution_count": 23,
     "metadata": {},
     "output_type": "execute_result"
    }
   ],
   "source": [
    "s.agg(['min', 'max'])"
   ]
  },
  {
   "cell_type": "code",
   "execution_count": 25,
   "id": "414bdbe3-c926-4cf9-a176-d432e5ebb788",
   "metadata": {},
   "outputs": [
    {
     "data": {
      "text/plain": [
       "min     9.0\n",
       "max    18.0\n",
       "dtype: float64"
      ]
     },
     "execution_count": 25,
     "metadata": {},
     "output_type": "execute_result"
    }
   ],
   "source": [
    "s.describe()[['min', 'max']]"
   ]
  },
  {
   "cell_type": "code",
   "execution_count": 29,
   "id": "64d90cf3-d4f4-4166-a475-e029fcf12346",
   "metadata": {},
   "outputs": [
    {
     "data": {
      "text/plain": [
       "np.int64(5)"
      ]
     },
     "execution_count": 29,
     "metadata": {},
     "output_type": "execute_result"
    }
   ],
   "source": [
    "# 3. On how many days will we have temperatures below the mean?\n",
    "\n",
    "s[s < s.mean()].count()"
   ]
  },
  {
   "cell_type": "code",
   "execution_count": 31,
   "id": "813b5b11-1dae-46d4-8d67-cf724fa4f877",
   "metadata": {},
   "outputs": [
    {
     "data": {
      "text/plain": [
       "np.float64(13.2)"
      ]
     },
     "execution_count": 31,
     "metadata": {},
     "output_type": "execute_result"
    }
   ],
   "source": [
    "# 4. What is the mean in the first 5 days? In the last 5 days?\n",
    "\n",
    "s[:5].mean()"
   ]
  },
  {
   "cell_type": "code",
   "execution_count": 32,
   "id": "a14500a0-4057-4114-a14d-366606af327f",
   "metadata": {},
   "outputs": [
    {
     "data": {
      "text/plain": [
       "np.float64(14.2)"
      ]
     },
     "execution_count": 32,
     "metadata": {},
     "output_type": "execute_result"
    }
   ],
   "source": [
    "s[5:].mean()"
   ]
  },
  {
   "cell_type": "code",
   "execution_count": 34,
   "id": "1b54c2aa-9cf1-4435-ac16-b9a44375f2c7",
   "metadata": {},
   "outputs": [
    {
     "data": {
      "text/plain": [
       "count    10.000\n",
       "mean     13.700\n",
       "std       3.335\n",
       "min       9.000\n",
       "25%      11.250\n",
       "50%      13.500\n",
       "75%      16.500\n",
       "max      18.000\n",
       "dtype: float64"
      ]
     },
     "execution_count": 34,
     "metadata": {},
     "output_type": "execute_result"
    }
   ],
   "source": [
    "s.describe()"
   ]
  },
  {
   "cell_type": "code",
   "execution_count": 35,
   "id": "7ae4bcb9-8ddc-419c-bfc3-9a5fac2967fc",
   "metadata": {},
   "outputs": [
    {
     "data": {
      "text/plain": [
       "np.float64(10.0)"
      ]
     },
     "execution_count": 35,
     "metadata": {},
     "output_type": "execute_result"
    }
   ],
   "source": [
    "s.describe()['count']"
   ]
  },
  {
   "cell_type": "code",
   "execution_count": 36,
   "id": "34d68f32-82ba-4447-bbbb-86fa14452f65",
   "metadata": {},
   "outputs": [
    {
     "data": {
      "text/plain": [
       "np.float64(13.7)"
      ]
     },
     "execution_count": 36,
     "metadata": {},
     "output_type": "execute_result"
    }
   ],
   "source": [
    "s.describe()['mean']"
   ]
  },
  {
   "cell_type": "code",
   "execution_count": 37,
   "id": "270ec5ab-4f16-4206-be78-22e1dcf8e7c8",
   "metadata": {},
   "outputs": [
    {
     "data": {
      "text/plain": [
       "count    10.0\n",
       "mean     13.7\n",
       "dtype: float64"
      ]
     },
     "execution_count": 37,
     "metadata": {},
     "output_type": "execute_result"
    }
   ],
   "source": [
    "s.describe()[['count', 'mean']]"
   ]
  },
  {
   "cell_type": "code",
   "execution_count": 38,
   "id": "41c1315f-075c-48f7-920b-ee7dad005c13",
   "metadata": {},
   "outputs": [],
   "source": [
    "n = s.describe()['mean']"
   ]
  },
  {
   "cell_type": "code",
   "execution_count": 39,
   "id": "c003a290-5cde-450f-9432-04d42f86ff39",
   "metadata": {},
   "outputs": [
    {
     "data": {
      "text/plain": [
       "np.float64(13.7)"
      ]
     },
     "execution_count": 39,
     "metadata": {},
     "output_type": "execute_result"
    }
   ],
   "source": [
    "n"
   ]
  },
  {
   "cell_type": "code",
   "execution_count": 41,
   "id": "2516936e-cc6f-4044-959f-f60d89e54d2d",
   "metadata": {},
   "outputs": [
    {
     "data": {
      "text/plain": [
       "18"
      ]
     },
     "execution_count": 41,
     "metadata": {},
     "output_type": "execute_result"
    }
   ],
   "source": [
    "int(n) + 5"
   ]
  },
  {
   "cell_type": "code",
   "execution_count": 43,
   "id": "a1981f7d-d1f7-459c-9d5f-4e872cff23a4",
   "metadata": {
    "scrolled": true
   },
   "outputs": [
    {
     "ename": "ValueError",
     "evalue": "No axis named std for object type Series",
     "output_type": "error",
     "traceback": [
      "\u001b[0;31m---------------------------------------------------------------------------\u001b[0m",
      "\u001b[0;31mKeyError\u001b[0m                                  Traceback (most recent call last)",
      "\u001b[0;32m~/.local/lib/python3.13/site-packages/pandas/core/generic.py\u001b[0m in \u001b[0;36m?\u001b[0;34m(cls, axis)\u001b[0m\n\u001b[1;32m    576\u001b[0m             \u001b[0;32mreturn\u001b[0m \u001b[0mcls\u001b[0m\u001b[0;34m.\u001b[0m\u001b[0m_AXIS_TO_AXIS_NUMBER\u001b[0m\u001b[0;34m[\u001b[0m\u001b[0maxis\u001b[0m\u001b[0;34m]\u001b[0m\u001b[0;34m\u001b[0m\u001b[0;34m\u001b[0m\u001b[0m\n\u001b[1;32m    577\u001b[0m         \u001b[0;32mexcept\u001b[0m \u001b[0mKeyError\u001b[0m\u001b[0;34m:\u001b[0m\u001b[0;34m\u001b[0m\u001b[0;34m\u001b[0m\u001b[0m\n\u001b[0;32m--> 578\u001b[0;31m             \u001b[0;32mraise\u001b[0m \u001b[0mValueError\u001b[0m\u001b[0;34m(\u001b[0m\u001b[0;34mf\"\u001b[0m\u001b[0;34mNo axis named \u001b[0m\u001b[0;34m{\u001b[0m\u001b[0maxis\u001b[0m\u001b[0;34m}\u001b[0m\u001b[0;34m for object type \u001b[0m\u001b[0;34m{\u001b[0m\u001b[0mcls\u001b[0m\u001b[0;34m.\u001b[0m\u001b[0m__name__\u001b[0m\u001b[0;34m}\u001b[0m\u001b[0;34m\"\u001b[0m\u001b[0;34m)\u001b[0m\u001b[0;34m\u001b[0m\u001b[0;34m\u001b[0m\u001b[0m\n\u001b[0m",
      "\u001b[0;31mKeyError\u001b[0m: 'std'",
      "\nDuring handling of the above exception, another exception occurred:\n",
      "\u001b[0;31mValueError\u001b[0m                                Traceback (most recent call last)",
      "\u001b[0;32m/var/folders/n7/3xckdj8j3dz45qz4xnlk1fy40000gn/T/ipykernel_94223/3917580605.py\u001b[0m in \u001b[0;36m?\u001b[0;34m()\u001b[0m\n\u001b[0;32m----> 1\u001b[0;31m \u001b[0ms\u001b[0m\u001b[0;34m.\u001b[0m\u001b[0magg\u001b[0m\u001b[0;34m(\u001b[0m\u001b[0;34m'mean'\u001b[0m\u001b[0;34m,\u001b[0m \u001b[0;34m'std'\u001b[0m\u001b[0;34m)\u001b[0m\u001b[0;34m\u001b[0m\u001b[0;34m\u001b[0m\u001b[0m\n\u001b[0m",
      "\u001b[0;32m~/.local/lib/python3.13/site-packages/pandas/core/series.py\u001b[0m in \u001b[0;36m?\u001b[0;34m(self, func, axis, *args, **kwargs)\u001b[0m\n\u001b[1;32m   4755\u001b[0m         \u001b[0mexamples\u001b[0m\u001b[0;34m=\u001b[0m\u001b[0m_agg_examples_doc\u001b[0m\u001b[0;34m,\u001b[0m\u001b[0;34m\u001b[0m\u001b[0;34m\u001b[0m\u001b[0m\n\u001b[1;32m   4756\u001b[0m     \u001b[0;34m)\u001b[0m\u001b[0;34m\u001b[0m\u001b[0;34m\u001b[0m\u001b[0m\n\u001b[1;32m   4757\u001b[0m     \u001b[0;32mdef\u001b[0m \u001b[0maggregate\u001b[0m\u001b[0;34m(\u001b[0m\u001b[0mself\u001b[0m\u001b[0;34m,\u001b[0m \u001b[0mfunc\u001b[0m\u001b[0;34m=\u001b[0m\u001b[0;32mNone\u001b[0m\u001b[0;34m,\u001b[0m \u001b[0maxis\u001b[0m\u001b[0;34m:\u001b[0m \u001b[0mAxis\u001b[0m \u001b[0;34m=\u001b[0m \u001b[0;36m0\u001b[0m\u001b[0;34m,\u001b[0m \u001b[0;34m*\u001b[0m\u001b[0margs\u001b[0m\u001b[0;34m,\u001b[0m \u001b[0;34m**\u001b[0m\u001b[0mkwargs\u001b[0m\u001b[0;34m)\u001b[0m\u001b[0;34m:\u001b[0m\u001b[0;34m\u001b[0m\u001b[0;34m\u001b[0m\u001b[0m\n\u001b[1;32m   4758\u001b[0m         \u001b[0;31m# Validate the axis parameter\u001b[0m\u001b[0;34m\u001b[0m\u001b[0;34m\u001b[0m\u001b[0m\n\u001b[0;32m-> 4759\u001b[0;31m         \u001b[0mself\u001b[0m\u001b[0;34m.\u001b[0m\u001b[0m_get_axis_number\u001b[0m\u001b[0;34m(\u001b[0m\u001b[0maxis\u001b[0m\u001b[0;34m)\u001b[0m\u001b[0;34m\u001b[0m\u001b[0;34m\u001b[0m\u001b[0m\n\u001b[0m\u001b[1;32m   4760\u001b[0m \u001b[0;34m\u001b[0m\u001b[0m\n\u001b[1;32m   4761\u001b[0m         \u001b[0;31m# if func is None, will switch to user-provided \"named aggregation\" kwargs\u001b[0m\u001b[0;34m\u001b[0m\u001b[0;34m\u001b[0m\u001b[0m\n\u001b[1;32m   4762\u001b[0m         \u001b[0;32mif\u001b[0m \u001b[0mfunc\u001b[0m \u001b[0;32mis\u001b[0m \u001b[0;32mNone\u001b[0m\u001b[0;34m:\u001b[0m\u001b[0;34m\u001b[0m\u001b[0;34m\u001b[0m\u001b[0m\n",
      "\u001b[0;32m~/.local/lib/python3.13/site-packages/pandas/core/generic.py\u001b[0m in \u001b[0;36m?\u001b[0;34m(cls, axis)\u001b[0m\n\u001b[1;32m    574\u001b[0m     \u001b[0;32mdef\u001b[0m \u001b[0m_get_axis_number\u001b[0m\u001b[0;34m(\u001b[0m\u001b[0mcls\u001b[0m\u001b[0;34m,\u001b[0m \u001b[0maxis\u001b[0m\u001b[0;34m:\u001b[0m \u001b[0mAxis\u001b[0m\u001b[0;34m)\u001b[0m \u001b[0;34m->\u001b[0m \u001b[0mAxisInt\u001b[0m\u001b[0;34m:\u001b[0m\u001b[0;34m\u001b[0m\u001b[0;34m\u001b[0m\u001b[0m\n\u001b[1;32m    575\u001b[0m         \u001b[0;32mtry\u001b[0m\u001b[0;34m:\u001b[0m\u001b[0;34m\u001b[0m\u001b[0;34m\u001b[0m\u001b[0m\n\u001b[1;32m    576\u001b[0m             \u001b[0;32mreturn\u001b[0m \u001b[0mcls\u001b[0m\u001b[0;34m.\u001b[0m\u001b[0m_AXIS_TO_AXIS_NUMBER\u001b[0m\u001b[0;34m[\u001b[0m\u001b[0maxis\u001b[0m\u001b[0;34m]\u001b[0m\u001b[0;34m\u001b[0m\u001b[0;34m\u001b[0m\u001b[0m\n\u001b[1;32m    577\u001b[0m         \u001b[0;32mexcept\u001b[0m \u001b[0mKeyError\u001b[0m\u001b[0;34m:\u001b[0m\u001b[0;34m\u001b[0m\u001b[0;34m\u001b[0m\u001b[0m\n\u001b[0;32m--> 578\u001b[0;31m             \u001b[0;32mraise\u001b[0m \u001b[0mValueError\u001b[0m\u001b[0;34m(\u001b[0m\u001b[0;34mf\"\u001b[0m\u001b[0;34mNo axis named \u001b[0m\u001b[0;34m{\u001b[0m\u001b[0maxis\u001b[0m\u001b[0;34m}\u001b[0m\u001b[0;34m for object type \u001b[0m\u001b[0;34m{\u001b[0m\u001b[0mcls\u001b[0m\u001b[0;34m.\u001b[0m\u001b[0m__name__\u001b[0m\u001b[0;34m}\u001b[0m\u001b[0;34m\"\u001b[0m\u001b[0;34m)\u001b[0m\u001b[0;34m\u001b[0m\u001b[0;34m\u001b[0m\u001b[0m\n\u001b[0m",
      "\u001b[0;31mValueError\u001b[0m: No axis named std for object type Series"
     ]
    }
   ],
   "source": [
    "s.agg('mean', 'std')"
   ]
  },
  {
   "cell_type": "code",
   "execution_count": 44,
   "id": "a05c7e97-4d55-43af-9cd9-e05efaef3553",
   "metadata": {},
   "outputs": [
    {
     "data": {
      "text/plain": [
       "a     10\n",
       "b     20\n",
       "c     30\n",
       "d     40\n",
       "e     50\n",
       "f     60\n",
       "g     70\n",
       "h     80\n",
       "i     90\n",
       "j    100\n",
       "dtype: int64"
      ]
     },
     "execution_count": 44,
     "metadata": {},
     "output_type": "execute_result"
    }
   ],
   "source": [
    "s = Series([10, 20, 30, 40, 50, 60, 70, 80, 90, 100],\n",
    "           index=list('abcdefghij'))\n",
    "s"
   ]
  },
  {
   "cell_type": "markdown",
   "id": "2ad4be66-9a94-441a-b318-bcb562b31007",
   "metadata": {},
   "source": [
    "# `.loc` and `.iloc`\n",
    "\n",
    "- `.loc` retrieves by index\n",
    "- `.iloc` retrieves by numeric position"
   ]
  },
  {
   "cell_type": "code",
   "execution_count": 46,
   "id": "e74631da-4153-4fb3-8fc3-e6aeeb029dda",
   "metadata": {},
   "outputs": [
    {
     "data": {
      "text/plain": [
       "a     10\n",
       "b     20\n",
       "c     30\n",
       "d     40\n",
       "e     50\n",
       "f     60\n",
       "g     70\n",
       "h     80\n",
       "i     90\n",
       "j    100\n",
       "dtype: int64"
      ]
     },
     "execution_count": 46,
     "metadata": {},
     "output_type": "execute_result"
    }
   ],
   "source": [
    "s"
   ]
  },
  {
   "cell_type": "code",
   "execution_count": 47,
   "id": "98fb3063-de1b-4f41-940a-635ce8187df6",
   "metadata": {},
   "outputs": [
    {
     "data": {
      "text/plain": [
       "np.int64(10)"
      ]
     },
     "execution_count": 47,
     "metadata": {},
     "output_type": "execute_result"
    }
   ],
   "source": [
    "s.loc['a']"
   ]
  },
  {
   "cell_type": "code",
   "execution_count": 48,
   "id": "6ff3216f-d807-4d20-b873-4e0a09248db3",
   "metadata": {},
   "outputs": [
    {
     "data": {
      "text/plain": [
       "b    20\n",
       "d    40\n",
       "c    30\n",
       "dtype: int64"
      ]
     },
     "execution_count": 48,
     "metadata": {},
     "output_type": "execute_result"
    }
   ],
   "source": [
    "s.loc[['b', 'd', 'c']]"
   ]
  },
  {
   "cell_type": "code",
   "execution_count": 50,
   "id": "ddfa6550-6797-4283-9f34-d90c930e15b5",
   "metadata": {},
   "outputs": [
    {
     "data": {
      "text/plain": [
       "d    40\n",
       "e    50\n",
       "f    60\n",
       "g    70\n",
       "dtype: int64"
      ]
     },
     "execution_count": 50,
     "metadata": {},
     "output_type": "execute_result"
    }
   ],
   "source": [
    "# .loc + slices -- the end point is included!\n",
    "s.loc['d':'g']"
   ]
  },
  {
   "cell_type": "code",
   "execution_count": 51,
   "id": "a7350c72-074e-49a9-a02c-85d04ca2c3d1",
   "metadata": {},
   "outputs": [
    {
     "data": {
      "text/plain": [
       "a     10\n",
       "b    999\n",
       "c     30\n",
       "d     40\n",
       "e     50\n",
       "f     60\n",
       "g     70\n",
       "h     80\n",
       "i     90\n",
       "j    100\n",
       "dtype: int64"
      ]
     },
     "execution_count": 51,
     "metadata": {},
     "output_type": "execute_result"
    }
   ],
   "source": [
    "s.loc['b'] = 999\n",
    "s"
   ]
  },
  {
   "cell_type": "code",
   "execution_count": 52,
   "id": "172a3a9f-5140-4538-8ce0-06b07c7a587d",
   "metadata": {},
   "outputs": [
    {
     "data": {
      "text/plain": [
       "np.int64(50)"
      ]
     },
     "execution_count": 52,
     "metadata": {},
     "output_type": "execute_result"
    }
   ],
   "source": [
    "s.iloc[4]"
   ]
  },
  {
   "cell_type": "code",
   "execution_count": 53,
   "id": "a2f68456-44fd-4609-ac6f-51401e469894",
   "metadata": {},
   "outputs": [
    {
     "data": {
      "text/plain": [
       "np.int64(60)"
      ]
     },
     "execution_count": 53,
     "metadata": {},
     "output_type": "execute_result"
    }
   ],
   "source": [
    "s.iloc[5]"
   ]
  },
  {
   "cell_type": "code",
   "execution_count": 54,
   "id": "42552495-6b2e-447d-89f5-c455b69dd0f0",
   "metadata": {},
   "outputs": [
    {
     "data": {
      "text/plain": [
       "e    50\n",
       "f    60\n",
       "dtype: int64"
      ]
     },
     "execution_count": 54,
     "metadata": {},
     "output_type": "execute_result"
    }
   ],
   "source": [
    "s.iloc[[4, 5]]"
   ]
  },
  {
   "cell_type": "code",
   "execution_count": 55,
   "id": "667a10fc-7918-4a90-bff2-fb712ee746ed",
   "metadata": {},
   "outputs": [
    {
     "data": {
      "text/plain": [
       "c    30\n",
       "d    40\n",
       "e    50\n",
       "f    60\n",
       "g    70\n",
       "dtype: int64"
      ]
     },
     "execution_count": 55,
     "metadata": {},
     "output_type": "execute_result"
    }
   ],
   "source": [
    "s.iloc[2:7]"
   ]
  },
  {
   "cell_type": "code",
   "execution_count": 56,
   "id": "7a3d8ed5-9b42-4077-acb1-ddeedc9d9cf5",
   "metadata": {},
   "outputs": [],
   "source": [
    "s.iloc[7] = 888"
   ]
  },
  {
   "cell_type": "code",
   "execution_count": 57,
   "id": "c31a2818-b85e-4e8e-9759-eec1982cbc28",
   "metadata": {},
   "outputs": [
    {
     "data": {
      "text/plain": [
       "a     10\n",
       "b    999\n",
       "c     30\n",
       "d     40\n",
       "e     50\n",
       "f     60\n",
       "g     70\n",
       "h    888\n",
       "i     90\n",
       "j    100\n",
       "dtype: int64"
      ]
     },
     "execution_count": 57,
     "metadata": {},
     "output_type": "execute_result"
    }
   ],
   "source": [
    "s"
   ]
  },
  {
   "cell_type": "code",
   "execution_count": 58,
   "id": "537bfc4e-97d7-483b-9c40-41cb56a09a59",
   "metadata": {},
   "outputs": [
    {
     "data": {
      "text/plain": [
       "j    100\n",
       "dtype: int64"
      ]
     },
     "execution_count": 58,
     "metadata": {},
     "output_type": "execute_result"
    }
   ],
   "source": [
    "s.tail(1)"
   ]
  },
  {
   "cell_type": "code",
   "execution_count": 59,
   "id": "6b0e9510-17eb-4f58-a7a4-f78d52681663",
   "metadata": {},
   "outputs": [],
   "source": [
    "s2 = Series([100, 200, 300, 400, 500, 600, 700, 800, 900, 1000],\n",
    "           index=list('jihgfedcba'))"
   ]
  },
  {
   "cell_type": "code",
   "execution_count": 60,
   "id": "2e2be110-6dd5-4401-b520-0e0f54e1cbc1",
   "metadata": {},
   "outputs": [
    {
     "data": {
      "text/plain": [
       "a      20\n",
       "b    1998\n",
       "c      60\n",
       "d      80\n",
       "e     100\n",
       "f     120\n",
       "g     140\n",
       "h    1776\n",
       "i     180\n",
       "j     200\n",
       "dtype: int64"
      ]
     },
     "execution_count": 60,
     "metadata": {},
     "output_type": "execute_result"
    }
   ],
   "source": [
    "s + s"
   ]
  },
  {
   "cell_type": "code",
   "execution_count": 61,
   "id": "589ba87d-18dc-4711-aafb-e304f3c4de29",
   "metadata": {},
   "outputs": [
    {
     "data": {
      "text/plain": [
       "a      20\n",
       "b    1009\n",
       "c      40\n",
       "d      50\n",
       "e      60\n",
       "f      70\n",
       "g      80\n",
       "h     898\n",
       "i     100\n",
       "j     110\n",
       "dtype: int64"
      ]
     },
     "execution_count": 61,
     "metadata": {},
     "output_type": "execute_result"
    }
   ],
   "source": [
    "s + 10   # broadcast"
   ]
  },
  {
   "cell_type": "code",
   "execution_count": 62,
   "id": "e4400995-72c8-4d05-956f-3e7d05342151",
   "metadata": {},
   "outputs": [
    {
     "data": {
      "text/plain": [
       "a    1010\n",
       "b    1899\n",
       "c     830\n",
       "d     740\n",
       "e     650\n",
       "f     560\n",
       "g     470\n",
       "h    1188\n",
       "i     290\n",
       "j     200\n",
       "dtype: int64"
      ]
     },
     "execution_count": 62,
     "metadata": {},
     "output_type": "execute_result"
    }
   ],
   "source": [
    "s + s2"
   ]
  },
  {
   "cell_type": "code",
   "execution_count": 63,
   "id": "c2fbf048-214e-4a9b-a65a-c1e01f1266f7",
   "metadata": {},
   "outputs": [
    {
     "data": {
      "text/plain": [
       "a    0.010000\n",
       "b    1.110000\n",
       "c    0.037500\n",
       "d    0.057143\n",
       "e    0.083333\n",
       "f    0.120000\n",
       "g    0.175000\n",
       "h    2.960000\n",
       "i    0.450000\n",
       "j    1.000000\n",
       "dtype: float64"
      ]
     },
     "execution_count": 63,
     "metadata": {},
     "output_type": "execute_result"
    }
   ],
   "source": [
    "s / s2"
   ]
  },
  {
   "cell_type": "code",
   "execution_count": 64,
   "id": "2e3109ff-d283-45cf-a68e-93b5e4bef26b",
   "metadata": {},
   "outputs": [
    {
     "data": {
      "text/plain": [
       "a     10000\n",
       "b    899100\n",
       "c     24000\n",
       "d     28000\n",
       "e     30000\n",
       "f     30000\n",
       "g     28000\n",
       "h    266400\n",
       "i     18000\n",
       "j     10000\n",
       "dtype: int64"
      ]
     },
     "execution_count": 64,
     "metadata": {},
     "output_type": "execute_result"
    }
   ],
   "source": [
    "s * s2"
   ]
  },
  {
   "cell_type": "code",
   "execution_count": 65,
   "id": "66dbd128-30ef-4f1c-b5b6-777862333562",
   "metadata": {},
   "outputs": [
    {
     "data": {
      "text/plain": [
       "a                      0\n",
       "b    1697842202855098849\n",
       "c                      0\n",
       "d                      0\n",
       "e                      0\n",
       "f                      0\n",
       "g                      0\n",
       "h                      0\n",
       "i                      0\n",
       "j                      0\n",
       "dtype: int64"
      ]
     },
     "execution_count": 65,
     "metadata": {},
     "output_type": "execute_result"
    }
   ],
   "source": [
    "s ** s2"
   ]
  },
  {
   "cell_type": "markdown",
   "id": "468e318b-fbc8-4bb5-805b-30719a312c2f",
   "metadata": {},
   "source": [
    "# Exercise: Series + index\n",
    "\n",
    "1. Define two series, `highs` and `lows`, with 10 days of expected temperatures. Each index should be in MMDD format, as a string (so `0218` would be today.)\n",
    "2. What is the predicted mean difference in temperature?\n",
    "3. What is the predicted mean difference in temperature on the first 5 days? Do this in two ways, with `.loc` and `.iloc`.\n"
   ]
  },
  {
   "cell_type": "code",
   "execution_count": 66,
   "id": "50b64910-56c2-43e7-8cb2-06ab3c5a96a2",
   "metadata": {},
   "outputs": [],
   "source": [
    "highs = Series([18, 15, 12, 11, 10, 9, 11, 15, 17, 18],\n",
    "              index='0218 0219 0220 0221 0222 0223 0224 0225 0226 0227'.split())\n",
    "lows = Series([10, 8, 7, 5, 3, 2, 3, 6, 6, 7],\n",
    "              index='0218 0219 0220 0221 0222 0223 0224 0225 0226 0227'.split())"
   ]
  },
  {
   "cell_type": "code",
   "execution_count": 67,
   "id": "af77adcf-b9a2-451a-a2e1-9619c9dcd34a",
   "metadata": {},
   "outputs": [
    {
     "data": {
      "text/plain": [
       "['0218',\n",
       " '0219',\n",
       " '0220',\n",
       " '0221',\n",
       " '0222',\n",
       " '0223',\n",
       " '0224',\n",
       " '0225',\n",
       " '0226',\n",
       " '0227']"
      ]
     },
     "execution_count": 67,
     "metadata": {},
     "output_type": "execute_result"
    }
   ],
   "source": [
    "[f'02{day}'\n",
    "for day in range(18, 28)]"
   ]
  },
  {
   "cell_type": "code",
   "execution_count": 69,
   "id": "8bbd34f8-f292-435e-95c3-be43a67ed3e0",
   "metadata": {},
   "outputs": [
    {
     "data": {
      "text/plain": [
       "np.float64(7.9)"
      ]
     },
     "execution_count": 69,
     "metadata": {},
     "output_type": "execute_result"
    }
   ],
   "source": [
    "# 2. What is the predicted mean difference in temperature?\n",
    "\n",
    "(highs - lows).mean()"
   ]
  },
  {
   "cell_type": "code",
   "execution_count": 70,
   "id": "59d9c3e6-9594-43c3-b6b5-70842a84b040",
   "metadata": {},
   "outputs": [
    {
     "data": {
      "text/plain": [
       "np.float64(6.6)"
      ]
     },
     "execution_count": 70,
     "metadata": {},
     "output_type": "execute_result"
    }
   ],
   "source": [
    "# 3. What is the predicted mean difference in temperature on the first 5 days? Do this in two ways, with `.loc` and `.iloc`.\n",
    "\n",
    "# loc\n",
    "(highs.loc[:'0222'] - lows.loc[:'0222']).mean()"
   ]
  },
  {
   "cell_type": "code",
   "execution_count": 72,
   "id": "cd6495f3-fb67-42fa-9f2c-14b4088d40ec",
   "metadata": {},
   "outputs": [
    {
     "data": {
      "text/plain": [
       "np.float64(6.6)"
      ]
     },
     "execution_count": 72,
     "metadata": {},
     "output_type": "execute_result"
    }
   ],
   "source": [
    "(highs.iloc[:5] - lows.iloc[:5]).mean()"
   ]
  },
  {
   "cell_type": "code",
   "execution_count": 73,
   "id": "d7a5534c-ed82-4276-8e7f-c4a132bf896f",
   "metadata": {},
   "outputs": [
    {
     "data": {
      "text/plain": [
       "np.float64(6.6)"
      ]
     },
     "execution_count": 73,
     "metadata": {},
     "output_type": "execute_result"
    }
   ],
   "source": [
    "(highs - lows).iloc[:5].mean()"
   ]
  },
  {
   "cell_type": "code",
   "execution_count": 75,
   "id": "e9795669-a48b-4882-9263-28de8726c7e8",
   "metadata": {},
   "outputs": [
    {
     "data": {
      "text/plain": [
       "np.float64(6.6)"
      ]
     },
     "execution_count": 75,
     "metadata": {},
     "output_type": "execute_result"
    }
   ],
   "source": [
    "# method chaining\n",
    "\n",
    "(\n",
    "    (highs - lows)\n",
    "    .iloc[:5]\n",
    "    .mean()\n",
    ")"
   ]
  },
  {
   "cell_type": "code",
   "execution_count": null,
   "id": "e21d83f9-aba1-4232-be5f-58bff8ad5470",
   "metadata": {},
   "outputs": [],
   "source": []
  }
 ],
 "metadata": {
  "kernelspec": {
   "display_name": "Python 3 (ipykernel)",
   "language": "python",
   "name": "python3"
  },
  "language_info": {
   "codemirror_mode": {
    "name": "ipython",
    "version": 3
   },
   "file_extension": ".py",
   "mimetype": "text/x-python",
   "name": "python",
   "nbconvert_exporter": "python",
   "pygments_lexer": "ipython3",
   "version": "3.13.1"
  },
  "widgets": {
   "application/vnd.jupyter.widget-state+json": {
    "state": {},
    "version_major": 2,
    "version_minor": 0
   }
  }
 },
 "nbformat": 4,
 "nbformat_minor": 5
}
