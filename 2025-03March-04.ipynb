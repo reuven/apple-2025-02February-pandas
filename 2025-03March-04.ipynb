{
 "cells": [
  {
   "cell_type": "markdown",
   "id": "5ab28935-4eed-4eac-b984-fd880d6235bf",
   "metadata": {},
   "source": [
    "# Data frame\n",
    "\n",
    "1. Creating a data frame\n",
    "    - Manually\n",
    "    - From CSV and other files\n",
    "3. Methods on a data frame\n",
    "4. `.loc` and `.iloc`\n",
    "5. `nan` and data frames\n",
    "6. Boolean indexes and data frames\n",
    "\n"
   ]
  },
  {
   "cell_type": "code",
   "execution_count": null,
   "id": "408347aa-0ace-44cc-a8b7-c421f547caa8",
   "metadata": {},
   "outputs": [],
   "source": []
  }
 ],
 "metadata": {
  "kernelspec": {
   "display_name": "Python 3 (ipykernel)",
   "language": "python",
   "name": "python3"
  },
  "language_info": {
   "codemirror_mode": {
    "name": "ipython",
    "version": 3
   },
   "file_extension": ".py",
   "mimetype": "text/x-python",
   "name": "python",
   "nbconvert_exporter": "python",
   "pygments_lexer": "ipython3",
   "version": "3.13.1"
  },
  "widgets": {
   "application/vnd.jupyter.widget-state+json": {
    "state": {},
    "version_major": 2,
    "version_minor": 0
   }
  }
 },
 "nbformat": 4,
 "nbformat_minor": 5
}
