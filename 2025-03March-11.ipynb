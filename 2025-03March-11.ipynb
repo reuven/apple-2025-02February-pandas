{
 "cells": [
  {
   "cell_type": "markdown",
   "id": "e03bfd41-8988-489d-aa9d-3a70cc3141d7",
   "metadata": {},
   "source": [
    "# Agenda\n",
    "\n",
    "1. Indexes and multi-indexes\n",
    "2. Sorting\n",
    "3. Grouping\n",
    "4. Pivot table"
   ]
  },
  {
   "cell_type": "code",
   "execution_count": null,
   "id": "ba04582b-747d-4980-9793-fd6b8225cf13",
   "metadata": {},
   "outputs": [],
   "source": []
  }
 ],
 "metadata": {
  "kernelspec": {
   "display_name": "Python 3 (ipykernel)",
   "language": "python",
   "name": "python3"
  },
  "language_info": {
   "codemirror_mode": {
    "name": "ipython",
    "version": 3
   },
   "file_extension": ".py",
   "mimetype": "text/x-python",
   "name": "python",
   "nbconvert_exporter": "python",
   "pygments_lexer": "ipython3",
   "version": "3.13.1"
  },
  "widgets": {
   "application/vnd.jupyter.widget-state+json": {
    "state": {},
    "version_major": 2,
    "version_minor": 0
   }
  }
 },
 "nbformat": 4,
 "nbformat_minor": 5
}
