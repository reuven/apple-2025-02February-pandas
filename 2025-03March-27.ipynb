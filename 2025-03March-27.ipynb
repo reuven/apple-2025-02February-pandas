{
 "cells": [
  {
   "cell_type": "markdown",
   "id": "a48b100a-38e6-4700-980b-fafe79f75b1c",
   "metadata": {},
   "source": [
    "# Agenda: Dates and times\n",
    "\n",
    "1. Core concepts + data structures\n",
    "2. Parsing dates and times\n",
    "3. Using `.dt`\n",
    "4. Comparisons\n",
    "5. Timedelta, and using it\n",
    "6. Grouper\n",
    "7. Time series (index with `datetime` values)\n",
    "8. Resampling"
   ]
  },
  {
   "cell_type": "markdown",
   "id": "623ad0ff-1c89-4519-9af3-20e494a3bbd4",
   "metadata": {},
   "source": [
    "# Concepts and data structures\n",
    "\n"
   ]
  }
 ],
 "metadata": {
  "kernelspec": {
   "display_name": "Python 3 (ipykernel)",
   "language": "python",
   "name": "python3"
  },
  "language_info": {
   "codemirror_mode": {
    "name": "ipython",
    "version": 3
   },
   "file_extension": ".py",
   "mimetype": "text/x-python",
   "name": "python",
   "nbconvert_exporter": "python",
   "pygments_lexer": "ipython3",
   "version": "3.13.1"
  },
  "widgets": {
   "application/vnd.jupyter.widget-state+json": {
    "state": {},
    "version_major": 2,
    "version_minor": 0
   }
  }
 },
 "nbformat": 4,
 "nbformat_minor": 5
}
